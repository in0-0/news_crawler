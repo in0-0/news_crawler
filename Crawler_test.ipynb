{
 "cells": [
  {
   "metadata": {
    "ExecuteTime": {
     "end_time": "2024-05-17T05:56:47.904566Z",
     "start_time": "2024-05-17T05:56:17.380396Z"
    }
   },
   "cell_type": "code",
   "source": [
    "# !pip install --upgrade pip\n",
    "# !pip install bs4 selenium black pandas --quiet"
   ],
   "id": "e72139ca628829fc",
   "outputs": [],
   "execution_count": 182
  },
  {
   "metadata": {
    "ExecuteTime": {
     "end_time": "2024-05-17T05:56:57.558703Z",
     "start_time": "2024-05-17T05:56:56.903693Z"
    }
   },
   "cell_type": "code",
   "source": [
    "from selenium import webdriver\n",
    "from selenium.webdriver.common.by import By\n",
    "import requests\n",
    "import re\n",
    "import pandas as pd\n",
    "import time\n",
    "from bs4 import BeautifulSoup"
   ],
   "id": "36138a4be837e999",
   "outputs": [],
   "execution_count": 183
  },
  {
   "metadata": {
    "ExecuteTime": {
     "end_time": "2024-05-17T01:16:25.364262Z",
     "start_time": "2024-05-17T01:16:25.360262Z"
    }
   },
   "cell_type": "code",
   "source": [
    "options = webdriver.ChromeOptions()\n",
    "# background operation\n",
    "options.add_argument(\"headless\")"
   ],
   "id": "dcfc0eb3ca68c59c",
   "outputs": [],
   "execution_count": 11
  },
  {
   "metadata": {
    "ExecuteTime": {
     "end_time": "2024-05-17T01:19:00.739527Z",
     "start_time": "2024-05-17T01:18:58.622086Z"
    }
   },
   "cell_type": "code",
   "source": [
    "# stop selenium process\n",
    "driver.quit()"
   ],
   "id": "f028d56d6ecf47fa",
   "outputs": [],
   "execution_count": 14
  },
  {
   "metadata": {
    "ExecuteTime": {
     "end_time": "2024-05-17T02:15:56.230550Z",
     "start_time": "2024-05-17T02:15:56.221549Z"
    }
   },
   "cell_type": "code",
   "source": [
    "sites = {\n",
    "    \"naver\": {\n",
    "        \"base_url\": \"https://news.naver.com/breakingnews/section/101/\",\n",
    "        \"category\": {\n",
    "            \"finance\": \"259\",\n",
    "            \"stock\": \"258\",\n",
    "            \"industry\": \"261\",\n",
    "            \"venture\": \"771\",\n",
    "            \"real_estate\": \"260\",\n",
    "            \"global\": \"262\",\n",
    "        },\n",
    "    }\n",
    "}"
   ],
   "id": "c9a707d673c5b9c",
   "outputs": [],
   "execution_count": 19
  },
  {
   "metadata": {
    "ExecuteTime": {
     "end_time": "2024-05-17T05:51:18.239552Z",
     "start_time": "2024-05-17T05:51:15.642907Z"
    }
   },
   "cell_type": "code",
   "source": [
    "# driver = webdriver.Chrome(options= options)\n",
    "driver = webdriver.Chrome()\n",
    "cur_site = sites['naver']['base_url'] + sites['naver']['category']['finance']\n",
    "driver.get(cur_site)"
   ],
   "id": "3ff82452f95fb8b8",
   "outputs": [],
   "execution_count": 174
  },
  {
   "metadata": {
    "ExecuteTime": {
     "end_time": "2024-05-17T05:51:18.404579Z",
     "start_time": "2024-05-17T05:51:18.240549Z"
    }
   },
   "cell_type": "code",
   "source": [
    "title_xpath = '//*[@id=\"newsct\"]/div[2]/div/div[1]'\n",
    "article_list = driver.find_element(by=By.XPATH, value=title_xpath)"
   ],
   "id": "3083c53190edbef8",
   "outputs": [],
   "execution_count": 175
  },
  {
   "metadata": {
    "ExecuteTime": {
     "end_time": "2024-05-17T05:51:18.481576Z",
     "start_time": "2024-05-17T05:51:18.409576Z"
    }
   },
   "cell_type": "code",
   "source": "titles = article_list.find_elements(by=By.CLASS_NAME, value=\"sa_text\")",
   "id": "1e3183fec26dac37",
   "outputs": [],
   "execution_count": 176
  },
  {
   "metadata": {},
   "cell_type": "code",
   "outputs": [],
   "execution_count": null,
   "source": [
    "req = requests.get(\"https://news.naver.com/breakingnews/section/101/259\")\n",
    "soup = BeautifulSoup(req.content, 'html.parser')\n",
    "[t['href'] for t in soup.find_all(class_=\"sa_text_title\")]"
   ],
   "id": "58497c44b484f7fe"
  },
  {
   "metadata": {},
   "cell_type": "code",
   "outputs": [],
   "execution_count": null,
   "source": [
    "def parse_articles_bs(link):\n",
    "    req = requests.get(link)\n",
    "    soup = BeautifulSoup(req.content, 'html.parser')\n",
    "    title_text = [t.text.strip('\\n') for t in soup.find_all(class_=\"sa_text_title\")]\n",
    "    links = [t['href'] for t in soup.find_all(class_=\"sa_text_title\")]\n",
    "    articles = [get_article(l) for l in links]\n",
    "    \n",
    "    df = pd.DataFrame({'title': title_text, 'link': links, 'content': articles})\n",
    "    return df"
   ],
   "id": "b3485e61bb09a9dd"
  },
  {
   "metadata": {},
   "cell_type": "code",
   "outputs": [],
   "execution_count": 178,
   "source": [
    "def parse_articles_selenium(article_list):\n",
    "    titles = article_list.find_elements(by=By.CLASS_NAME, value=\"sa_text\")\n",
    "    title_text = [t.find_element(by=By.CLASS_NAME, value=\"sa_text_title\").text for t in titles]\n",
    "    links = [t.find_element(by=By.CLASS_NAME, value=\"sa_text_title\").get_attribute(\"href\") for t in titles]\n",
    "    articles = [get_article(l) for l in links]\n",
    "    \n",
    "    df = pd.DataFrame({'title': title_text, 'link': links, 'content': articles})\n",
    "    return df"
   ],
   "id": "dbabb885d2174413"
  },
  {
   "metadata": {},
   "cell_type": "code",
   "outputs": [],
   "execution_count": 177,
   "source": [
    "def get_article(link: str):\n",
    "    req = requests.get(link)\n",
    "    soup = BeautifulSoup(req.content, 'html.parser')\n",
    "    ret = soup.select_one(\"article\").text\n",
    "    return ret"
   ],
   "id": "e0acbc2efc7620ab"
  },
  {
   "metadata": {
    "ExecuteTime": {
     "end_time": "2024-05-17T05:54:38.625775Z",
     "start_time": "2024-05-17T05:54:38.620871Z"
    }
   },
   "cell_type": "code",
   "source": [
    "len(articles)\n",
    "articles[-1]"
   ],
   "id": "41029cb618f55f08",
   "outputs": [
    {
     "data": {
      "text/plain": [
       "'\\n\\n\\n\\n\\n삼성화재가 자사의 디지털 보험 플랫폼인 삼성화재 다이렉트 착의 새로운 브랜드 광고 \\'너에게만 착! 밀착플러팅\\'을 선보인다. ⓒ삼성화재[디지털데일리 권유승 기자] 삼성화재는 자사의 디지털 보험 플랫폼인 삼성화재 다이렉트 착의 새로운 브랜드 광고 \\'너에게만 착! 밀착플러팅\\'을 선보인다고 17일 밝혔다. 플러팅(Flirting)이란 상대방에게 호감을 갖고 다가가는 행동을 일컫는 말이다.이번 광고는 삼성화재 다이렉트 착을 캐릭터로 의인화해 \\'디지털 기술을 활용해 고객의 일상 생활을 24시간 밀착 케어하는 다이렉트 착의 브랜드 정체성을 강조하며, 고객에게 친숙하고 재미있게 알린다\\'는 취지로 기획됐다.특히 MZ세대에게 친숙한 \\'라이트 노벨(Light Novel)\\' 장르의 스타일을 채택해, 브랜드에 대한 지속적인 관심을 유도했다. 라이트 노벨은 그림 삽화가 들어간 가볍게 읽을 수 있는 소설 형식을 말한다.광고는 한 남성이 \"조수석에 앉은 그녀가 나를 24시간 케어한다\"는 내레이션으로 시작한다. \\'착\\' 캐릭터가 운전 중인 남성이 과속이나 급회전을 하지 않도록 도와주고, 안전운전 시 포인트를 제공한다. 또한 남성이 자동차보험과 운전자보험에 가입했는지 확인하며, 그의 드라이빙 라이프를 밀착 케어한다. 밀착 케어했던 그녀가 사실 삼성화재 다이렉트 \\'착\\' 앱이었다는 반전이 재미 포인트다.삼성화재는 고객들이 광고를 일상에서도 즐길 수 있도록 5월 한 달간 참여형 온라인 이벤트를 진행한다. 마음에 드는 밀착플러팅 광고 장면에 나만의 대사를 입력하고 개인화된 이미지를 저장 및 공유할 수 있으며, 추첨을 통해 다양한 선물을 증정한다.삼성화재 다이렉트 착 관계자는 \"이번 광고는 자동차 편을 시작으로 여행, 건강, 펫 테마 등 고객의 일상 속에서 삼성화재 다이렉트 \\'착\\'을 만날 수 있는 시리즈물로 기획했다\"며 \"앞으로도 이야기가 있는 광고를 통해 고객을 더욱 밀착하여 케어하는 \\'착\\' 브랜드의 정체성을 쉽게 전달하겠다\"고 말했다.\\n'"
      ]
     },
     "execution_count": 181,
     "metadata": {},
     "output_type": "execute_result"
    }
   ],
   "execution_count": 181
  },
  {
   "metadata": {
    "ExecuteTime": {
     "end_time": "2024-05-17T05:39:11.346298Z",
     "start_time": "2024-05-17T05:39:11.295375Z"
    }
   },
   "cell_type": "code",
   "source": [
    "req = requests.get(link)\n",
    "soup = BeautifulSoup(req.content, 'html.parser')\n",
    "article = soup.select_one(\"article\").text"
   ],
   "id": "c868540ea0d23c3",
   "outputs": [],
   "execution_count": 158
  },
  {
   "metadata": {
    "ExecuteTime": {
     "end_time": "2024-05-17T06:11:20.126786Z",
     "start_time": "2024-05-17T06:11:20.119788Z"
    }
   },
   "cell_type": "code",
   "source": [
    "for category in sites[\"naver\"][\"category\"].values():\n",
    "    print(sites['naver']['base_url'] + category)"
   ],
   "id": "7216c49b8aaa03a7",
   "outputs": [
    {
     "name": "stdout",
     "output_type": "stream",
     "text": [
      "https://news.naver.com/breakingnews/section/101/259\n",
      "https://news.naver.com/breakingnews/section/101/258\n",
      "https://news.naver.com/breakingnews/section/101/261\n",
      "https://news.naver.com/breakingnews/section/101/771\n",
      "https://news.naver.com/breakingnews/section/101/260\n",
      "https://news.naver.com/breakingnews/section/101/262\n"
     ]
    }
   ],
   "execution_count": 188
  },
  {
   "metadata": {
    "ExecuteTime": {
     "end_time": "2024-05-17T06:28:37.049153Z",
     "start_time": "2024-05-17T06:28:36.216217Z"
    }
   },
   "cell_type": "code",
   "source": [
    "req = requests.get(\"https://news.naver.com/breakingnews/section/101/259\")\n",
    "soup = BeautifulSoup(req.content, 'html.parser')\n",
    "titles = [t.text.strip('\\n') for t in soup.find_all(class_=\"sa_text_title\")]\n",
    "links = [t['href'] for t in soup.find_all(class_=\"sa_text_title\")]"
   ],
   "id": "d8d034a2901743b8",
   "outputs": [],
   "execution_count": 201
  },
  {
   "metadata": {
    "ExecuteTime": {
     "end_time": "2024-05-17T06:28:42.270200Z",
     "start_time": "2024-05-17T06:28:42.264705Z"
    }
   },
   "cell_type": "code",
   "source": "titles",
   "id": "f4e29b506b433ca9",
   "outputs": [
    {
     "data": {
      "text/plain": [
       "['SC제일은행, 첫 거래 고객 일복리저축예금 최고 연 3.4%',\n",
       " '케이뱅크, 주담대 대환·전세 대출금리 인하…최저 연 3.43%',\n",
       " '미래에셋증권 ELW 192개 종목 신규 상장',\n",
       " \"BNK경남은행-양산시, 소상공인 희망나눔 상생금융 '맞손'\",\n",
       " \"우리다문화장학재단, '베트남 언어·문화체험' 청소년 모집\",\n",
       " '국민은행, 캄보디아 중앙은행과 QR코드 기반 지급결제시스템 구축',\n",
       " '\"6월 17일~28일 혁신금융서비스 지정 신청하세요\"',\n",
       " '케이뱅크, 아파트담보대출·전세대출 금리 인하',\n",
       " '\"주택금융 알기 참 쉽죠\"...주금공 \\'재밌지예\\' 강좌 개최',\n",
       " '“2금융권 PF 브릿지론 절반 이상 ‘부실 우려 가능성’ 사업장에 묶여”',\n",
       " '케이뱅크, 주담대·전세대출 금리 인하…대환대출 최저 연 3.43%',\n",
       " '中 본토에서 투자 못하니… 홍콩 비트코인 ETF, 출시 후 자금 순유출',\n",
       " '농협금융지주 미래성장부문, 농촌 폐전자제품 수거 봉사 전개',\n",
       " '[2024 서울머니쇼 부스] 새로운 투자 경험의 시작! 이제는 머니무브 투자 앱으로',\n",
       " '농협은행, 나주 이슬촌마을 농촌체험여행 이벤트',\n",
       " '국민은행, 웹툰·웹예능 등 콘텐츠로 전세사기 피해 예방 지원',\n",
       " \"주금공, 다음 달 4일 주택금융 '재밌지예' 강좌\",\n",
       " '케이뱅크, 주담대·전세대출 금리 인하…대환대출 최저 3.43%',\n",
       " '농협중앙회, 영농철 일손돕기 실시',\n",
       " \"[단독] 은행들의 '10년 전쟁' 나라사랑카드…올해 새 사업자 뽑는다\",\n",
       " '전북銀-캄보디아 중앙은행, QR결제시스템 구축 업무협약',\n",
       " '케이뱅크, 아담대·전세대 금리 인하…대환대출 최저 연 3.43%부터',\n",
       " '[인사] 금융위원회',\n",
       " '케이뱅크, 주담대·전세대출 금리 인하… 대환대출 최저 연 3.43%',\n",
       " '서민금융진흥원, 대학생 서포터즈 발대식',\n",
       " '대양제지, 상장폐지신청서 제출',\n",
       " '흥국금융계열사, 소외계층 위한 무료급식 나눔 봉사',\n",
       " '[인사] 금융위원회',\n",
       " '금융위, 6월 17~28일 혁신금융서비스 지정 신청 접수',\n",
       " '케이뱅크, 아파트담보대출 금리 인하…대환대출 최저 연 3.43%',\n",
       " '[인사]금융위원회',\n",
       " '[인사] 금융위원회',\n",
       " '전북은행, 캄보디아 중앙은행과 지급결제 업무협약',\n",
       " '[인사] 금융위원회',\n",
       " '부산은행 모바일뱅킹 앱에 있다…간식 쇼핑 특화몰 출시',\n",
       " '“미꾸라지 아닌 메기가 되어다오”...iM뱅크로 재도약 나선 대구은행']"
      ]
     },
     "execution_count": 202,
     "metadata": {},
     "output_type": "execute_result"
    }
   ],
   "execution_count": 202
  },
  {
   "metadata": {},
   "cell_type": "code",
   "outputs": [],
   "execution_count": null,
   "source": "",
   "id": "549e17edbd309f4e"
  }
 ],
 "metadata": {
  "kernelspec": {
   "display_name": "Python 3",
   "language": "python",
   "name": "python3"
  },
  "language_info": {
   "codemirror_mode": {
    "name": "ipython",
    "version": 2
   },
   "file_extension": ".py",
   "mimetype": "text/x-python",
   "name": "python",
   "nbconvert_exporter": "python",
   "pygments_lexer": "ipython2",
   "version": "2.7.6"
  }
 },
 "nbformat": 4,
 "nbformat_minor": 5
}
