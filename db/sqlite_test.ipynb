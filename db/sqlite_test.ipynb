{
 "cells": [
  {
   "cell_type": "code",
   "id": "initial_id",
   "metadata": {
    "collapsed": true,
    "ExecuteTime": {
     "end_time": "2024-05-20T13:35:55.857694Z",
     "start_time": "2024-05-20T13:35:55.854865Z"
    }
   },
   "source": "import sqlite3",
   "outputs": [],
   "execution_count": 50
  },
  {
   "metadata": {
    "ExecuteTime": {
     "end_time": "2024-05-20T13:35:57.004550Z",
     "start_time": "2024-05-20T13:35:57.001093Z"
    }
   },
   "cell_type": "code",
   "source": "con = sqlite3.connect('test.db')",
   "id": "2bcfe1444ca0b6b4",
   "outputs": [],
   "execution_count": 51
  },
  {
   "metadata": {
    "ExecuteTime": {
     "end_time": "2024-05-20T13:34:49.659574Z",
     "start_time": "2024-05-20T13:34:49.655170Z"
    }
   },
   "cell_type": "code",
   "source": "cursor = con.cursor()",
   "id": "1d564606ccb94d48",
   "outputs": [],
   "execution_count": 34
  },
  {
   "metadata": {
    "ExecuteTime": {
     "end_time": "2024-05-20T13:34:49.719120Z",
     "start_time": "2024-05-20T13:34:49.715461Z"
    }
   },
   "cell_type": "code",
   "source": [
    "create_sql = '''\n",
    "CREATE TABLE IF NOT EXISTS users (\n",
    "    id INTEGER PRIMARY KEY AUTOINCREMENT,\n",
    "    name TEXT NOT NULL,\n",
    "    age INTEGER\n",
    ");\n",
    "'''"
   ],
   "id": "1679da66dce721a3",
   "outputs": [],
   "execution_count": 35
  },
  {
   "metadata": {
    "ExecuteTime": {
     "end_time": "2024-05-20T13:34:49.757565Z",
     "start_time": "2024-05-20T13:34:49.753129Z"
    }
   },
   "cell_type": "code",
   "source": "cursor.execute(create_sql)",
   "id": "9ef2d7fe5f4107ed",
   "outputs": [
    {
     "data": {
      "text/plain": [
       "<sqlite3.Cursor at 0x2acf580fd40>"
      ]
     },
     "execution_count": 36,
     "metadata": {},
     "output_type": "execute_result"
    }
   ],
   "execution_count": 36
  },
  {
   "metadata": {
    "ExecuteTime": {
     "end_time": "2024-05-20T13:34:49.793127Z",
     "start_time": "2024-05-20T13:34:49.790282Z"
    }
   },
   "cell_type": "code",
   "source": "con.commit()",
   "id": "5ccf4a9c31b657cb",
   "outputs": [],
   "execution_count": 37
  },
  {
   "metadata": {
    "ExecuteTime": {
     "end_time": "2024-05-20T13:34:49.842990Z",
     "start_time": "2024-05-20T13:34:49.838134Z"
    }
   },
   "cell_type": "code",
   "source": [
    "insert_sql = \"INSERT INTO users (name, age) VALUES ('이순신', 25);\"\n",
    "cursor.execute(insert_sql)"
   ],
   "id": "a81e5144c0fe9e30",
   "outputs": [
    {
     "data": {
      "text/plain": [
       "<sqlite3.Cursor at 0x2acf580fd40>"
      ]
     },
     "execution_count": 38,
     "metadata": {},
     "output_type": "execute_result"
    }
   ],
   "execution_count": 38
  },
  {
   "metadata": {
    "ExecuteTime": {
     "end_time": "2024-05-20T13:34:49.885985Z",
     "start_time": "2024-05-20T13:34:49.876072Z"
    }
   },
   "cell_type": "code",
   "source": [
    "# 변경사항 저장\n",
    "con.commit()"
   ],
   "id": "9e3688dec2b07312",
   "outputs": [],
   "execution_count": 39
  },
  {
   "metadata": {
    "ExecuteTime": {
     "end_time": "2024-05-20T13:34:49.938351Z",
     "start_time": "2024-05-20T13:34:49.935032Z"
    }
   },
   "cell_type": "code",
   "source": [
    "# 데이터 삽입 SQL 문 (쿼리문 파라미터 사용)\n",
    "insert_sql = \"INSERT INTO users (name, age) VALUES (?, ?);\""
   ],
   "id": "ba3b56964f1f0df7",
   "outputs": [],
   "execution_count": 40
  },
  {
   "metadata": {
    "ExecuteTime": {
     "end_time": "2024-05-20T13:34:50.327697Z",
     "start_time": "2024-05-20T13:34:50.322082Z"
    }
   },
   "cell_type": "code",
   "source": [
    "user = (\"김유신\", 25)\n",
    "cursor.execute(insert_sql, user)"
   ],
   "id": "1895b73218ce4682",
   "outputs": [
    {
     "data": {
      "text/plain": [
       "<sqlite3.Cursor at 0x2acf580fd40>"
      ]
     },
     "execution_count": 41,
     "metadata": {},
     "output_type": "execute_result"
    }
   ],
   "execution_count": 41
  },
  {
   "metadata": {
    "ExecuteTime": {
     "end_time": "2024-05-20T13:34:50.991644Z",
     "start_time": "2024-05-20T13:34:50.982223Z"
    }
   },
   "cell_type": "code",
   "source": "con.commit()",
   "id": "9cc31ed1fb63f094",
   "outputs": [],
   "execution_count": 42
  },
  {
   "metadata": {
    "ExecuteTime": {
     "end_time": "2024-05-20T13:34:51.125380Z",
     "start_time": "2024-05-20T13:34:51.120506Z"
    }
   },
   "cell_type": "code",
   "source": [
    "# 다중의 행 Query\n",
    "userlist = ((\"이순신\",\"30\"), (\"박문수\",\"27\"))\n",
    "cursor.executemany(insert_sql, userlist)"
   ],
   "id": "256cfdc0fdcbcb06",
   "outputs": [
    {
     "data": {
      "text/plain": [
       "<sqlite3.Cursor at 0x2acf580fd40>"
      ]
     },
     "execution_count": 43,
     "metadata": {},
     "output_type": "execute_result"
    }
   ],
   "execution_count": 43
  },
  {
   "metadata": {
    "ExecuteTime": {
     "end_time": "2024-05-20T13:34:51.294608Z",
     "start_time": "2024-05-20T13:34:51.289902Z"
    }
   },
   "cell_type": "code",
   "source": "select_sql = \"SELECT * FROM users\"",
   "id": "91a01677ac04095e",
   "outputs": [],
   "execution_count": 44
  },
  {
   "metadata": {
    "ExecuteTime": {
     "end_time": "2024-05-20T13:34:51.446136Z",
     "start_time": "2024-05-20T13:34:51.442291Z"
    }
   },
   "cell_type": "code",
   "source": "cursor.execute(select_sql)",
   "id": "a2d8ed8ef5feaf89",
   "outputs": [
    {
     "data": {
      "text/plain": [
       "<sqlite3.Cursor at 0x2acf580fd40>"
      ]
     },
     "execution_count": 45,
     "metadata": {},
     "output_type": "execute_result"
    }
   ],
   "execution_count": 45
  },
  {
   "metadata": {
    "ExecuteTime": {
     "end_time": "2024-05-20T13:34:51.999984Z",
     "start_time": "2024-05-20T13:34:51.995433Z"
    }
   },
   "cell_type": "code",
   "source": "rows = cursor.fetchall()",
   "id": "f33aad5bf8222250",
   "outputs": [],
   "execution_count": 46
  },
  {
   "metadata": {
    "ExecuteTime": {
     "end_time": "2024-05-20T13:35:59.683613Z",
     "start_time": "2024-05-20T13:35:59.680170Z"
    }
   },
   "cell_type": "code",
   "source": [
    "for row in rows:\n",
    "    print(row)"
   ],
   "id": "960170cb8f26af73",
   "outputs": [
    {
     "name": "stdout",
     "output_type": "stream",
     "text": [
      "(1, '이순신', 25)\n",
      "(2, '김유신', 25)\n",
      "(3, '이순신', 25)\n",
      "(4, '김유신', 25)\n",
      "(5, '이순신', 30)\n",
      "(6, '박문수', 27)\n"
     ]
    }
   ],
   "execution_count": 52
  },
  {
   "metadata": {
    "ExecuteTime": {
     "end_time": "2024-05-20T13:36:06.046567Z",
     "start_time": "2024-05-20T13:36:06.042187Z"
    }
   },
   "cell_type": "code",
   "source": [
    "# 연결 종료 (예외가 발생해도 실행됨)\n",
    "con.close()"
   ],
   "id": "de9ac7b2cb8e4b9",
   "outputs": [],
   "execution_count": 53
  },
  {
   "metadata": {},
   "cell_type": "code",
   "outputs": [],
   "execution_count": null,
   "source": "",
   "id": "80ae49c0b9dd11ba"
  }
 ],
 "metadata": {
  "kernelspec": {
   "display_name": "Python 3",
   "language": "python",
   "name": "python3"
  },
  "language_info": {
   "codemirror_mode": {
    "name": "ipython",
    "version": 2
   },
   "file_extension": ".py",
   "mimetype": "text/x-python",
   "name": "python",
   "nbconvert_exporter": "python",
   "pygments_lexer": "ipython2",
   "version": "2.7.6"
  }
 },
 "nbformat": 4,
 "nbformat_minor": 5
}
