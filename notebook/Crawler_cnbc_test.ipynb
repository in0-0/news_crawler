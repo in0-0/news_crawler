{
 "cells": [
  {
   "metadata": {
    "ExecuteTime": {
     "end_time": "2024-05-17T05:56:47.904566Z",
     "start_time": "2024-05-17T05:56:17.380396Z"
    }
   },
   "cell_type": "code",
   "source": [
    "# !pip install --upgrade pip\n",
    "# !pip install bs4 selenium black pandas --quiet"
   ],
   "id": "e72139ca628829fc",
   "outputs": [],
   "execution_count": 182
  },
  {
   "metadata": {
    "ExecuteTime": {
     "end_time": "2024-05-23T13:46:07.344928Z",
     "start_time": "2024-05-23T13:46:04.890933Z"
    }
   },
   "cell_type": "code",
   "source": [
    "from selenium import webdriver\n",
    "from selenium.webdriver.common.by import By\n",
    "import requests\n",
    "import re\n",
    "import pandas as pd\n",
    "import time\n",
    "from bs4 import BeautifulSoup\n",
    "from datetime import datetime"
   ],
   "id": "36138a4be837e999",
   "outputs": [],
   "execution_count": 2
  },
  {
   "metadata": {
    "ExecuteTime": {
     "end_time": "2024-05-17T09:13:53.846487Z",
     "start_time": "2024-05-17T09:13:53.842511Z"
    }
   },
   "cell_type": "code",
   "source": [
    "sites = {\n",
    "    \"yahoo\": {\n",
    "        \"base_url\": \"https://finance.yahoo.com/topic/\",\n",
    "        \"category\": {\n",
    "            \"economics\": \"economic-news\",\n",
    "            \"tech\": \"tech\",\n",
    "            \"housing\": \"housing-market\",\n",
    "        },\n",
    "    }\n",
    "}"
   ],
   "id": "c9a707d673c5b9c",
   "outputs": [],
   "execution_count": 6
  },
  {
   "metadata": {
    "ExecuteTime": {
     "end_time": "2024-05-23T14:14:29.915089Z",
     "start_time": "2024-05-23T14:14:29.910107Z"
    }
   },
   "cell_type": "code",
   "source": [
    "request_headers = {\n",
    "    \"User-Agent\": \"Mozilla/5.0 (Windows NT 10.0; Win64; x64) AppleWebKit/537.36 (KHTML, like Gecko) Chrome/125.0.0.0 Safari/537.36 Edg/125.0.0.0\",\n",
    "    \"Referer\": \"\",\n",
    "}"
   ],
   "id": "fed284b670812e03",
   "outputs": [],
   "execution_count": 31
  },
  {
   "metadata": {
    "ExecuteTime": {
     "end_time": "2024-05-23T14:03:22.919738Z",
     "start_time": "2024-05-23T14:03:20.352423Z"
    }
   },
   "cell_type": "code",
   "source": [
    "req = requests.get(\"https://www.cnbc.com/industrials/\")\n",
    "soup = BeautifulSoup(req.content, 'html.parser')\n",
    "titles = soup.find_all(class_=\"Card-titleContainer\")\n",
    "title_text = [t.find(class_=\"Card-title\").text for t in titles  if t.find(class_=\"InvestingClubPill-investingClubPillLink\") is None]\n",
    "links = [t.find(class_=\"Card-title\")[\"href\"] for t in titles if t.findPrevious(class_=\"InvestingClubPill-investingClubPillLink\") is None]"
   ],
   "id": "58497c44b484f7fe",
   "outputs": [],
   "execution_count": 28
  },
  {
   "metadata": {
    "ExecuteTime": {
     "end_time": "2024-05-23T14:02:35.282653Z",
     "start_time": "2024-05-23T14:02:35.277679Z"
    }
   },
   "cell_type": "code",
   "source": "title_text",
   "id": "210e2eb20030fd4d",
   "outputs": [
    {
     "data": {
      "text/plain": [
       "['JetBlue, British Airways seek partnership to expand networks',\n",
       " 'Boeing shareholders reelect departing CEO Calhoun to board',\n",
       " 'Frontier Airlines does away with change fees in budget airline pricing overhaul ',\n",
       " 'United says FAA cleared it to start adding aircraft, routes after safety review',\n",
       " 'Norfolk Southern activist Ancora wins three board seats but falls short of ousting CEO',\n",
       " 'Boeing forced to scrub first crewed Starliner launch to the space station',\n",
       " 'Proxy advisor ISS says unions and pension funds should back Norfolk Southern activist investor',\n",
       " \"Jim Cramer's takes on 5 stocks:  Coca-Cola, McDonald's, 3M, PayPal and Walmart\",\n",
       " \"Glass Lewis endorses 6 of activist Ancora's nominees for Norfolk Southern board\",\n",
       " 'American cuts some international flights into 2025, cites Boeing delivery delays',\n",
       " 'Elliott takes $1B stake in Anglo American as miner faces takeover interest',\n",
       " 'Open seating no more? Southwest CEO says airline is weighing cabin changes',\n",
       " 'American Airlines swings to a loss, but tops estimates for Q2 forecast',\n",
       " 'Southwest cuts growth plans, says effect of Boeing delays will last into 2025',\n",
       " 'Cramer: This data center equipment firm continues to be a winner in the AI boom',\n",
       " 'Boeing reports better-than-feared quarter, says supply chain is stabilizing',\n",
       " 'JetBlue shares tumble nearly 19% after airline lowers 2024 revenue outlook',\n",
       " 'Boeing expects slower production increase of 787 Dreamliner',\n",
       " 'Delta gives staff another 5% raise, hikes starting wages to $19 an hour',\n",
       " 'Ex-JetBlue CEO Robin Hayes to run Airbus North America ',\n",
       " 'Carrier, century-old inventor of air conditioner, is moving on to home heat pump',\n",
       " 'FAA will require more rest for air traffic controllers amid fatigue concerns',\n",
       " 'Alaska Airlines forecast tops estimates after loss from Boeing Max grounding',\n",
       " 'Airline executives predict a record summer and even more demand for first class',\n",
       " 'Boeing faces scrutiny in Senate hearings over aircraft safety and quality',\n",
       " 'United Airlines jumps more than 10% on strong earnings forecast']"
      ]
     },
     "execution_count": 27,
     "metadata": {},
     "output_type": "execute_result"
    }
   ],
   "execution_count": 27
  },
  {
   "metadata": {
    "ExecuteTime": {
     "end_time": "2024-05-23T13:49:05.284877Z",
     "start_time": "2024-05-23T13:49:05.277426Z"
    }
   },
   "cell_type": "code",
   "source": "titles",
   "id": "a57cc9c87cd99e31",
   "outputs": [
    {
     "data": {
      "text/plain": [
       "[<a class=\"Card-title\" href=\"https://www.cnbc.com/2024/05/23/stocks-making-the-biggest-moves-before-the-bell-nvda-lyv-snow.html\" target=\"\">Stocks making the biggest moves before the bell: Nvidia, Live Nation,  Snowflake and more</a>,\n",
       " <a class=\"Card-title\" href=\"https://www.cnbc.com/2024/05/22/chinas-magnificent-seven-gets-new-etf.html\" target=\"\">This ETF aims to capture China's own 'Magnificent Seven'</a>,\n",
       " <a class=\"Card-title\" href=\"https://www.cnbc.com/2024/05/22/stocks-making-the-biggest-moves-after-hours-nvda-snow-vfc.html\" target=\"\">Stocks making biggest moves after hours: Nvidia, Snowflake, VF Corp. and more</a>,\n",
       " <a class=\"Card-title\" href=\"https://www.cnbc.com/2024/05/22/3-big-risks-to-the-stock-market-economist-says.html\" target=\"\">These are the 3 big risks to the stock market, economist says</a>,\n",
       " <a class=\"Card-title\" href=\"https://www.cnbc.com/2024/05/22/synapse-bankruptcy-customer-funds.html\" target=\"\">Fintech nightmare: 'I have nearly $38,000 tied up' after Synapse bankruptcy</a>,\n",
       " <a class=\"Card-title\" href=\"https://www.cnbc.com/2024/05/22/fed-minutes-may-2024-.html\" target=\"\">Federal Reserve minutes indicate worries over lack of progress on inflation</a>,\n",
       " <a class=\"Card-title\" href=\"https://www.cnbc.com/2024/05/22/stocks-making-the-biggest-moves-midday-tgt-urbn-tsla-shop-and-more.html\" target=\"\">Stocks making biggest moves midday: Target, Urban Outfitters, Tesla, Shopify</a>,\n",
       " <a class=\"Card-title\" href=\"https://www.cnbc.com/2024/05/22/stocks-making-the-biggest-moves-premarket-tgt-lulu-shop.html\" target=\"\">Stocks making the biggest moves premarket: Target, Lululemon, Shopify and more</a>,\n",
       " <a class=\"Card-title\" href=\"https://www.cnbc.com/2024/05/22/cfpb-buy-now-pay-later-credit-card-laws.html\" target=\"\">CFPB says buy now, pay later firms must comply with U.S. credit card laws</a>,\n",
       " <a class=\"Card-title\" href=\"https://www.cnbc.com/2024/05/22/docusign-ceo-says-wants-to-stay-public-after-pe-takeover-speculation.html\" target=\"\">DocuSign chief says firm wants to stay public after reports of PE takeover interest</a>,\n",
       " <a class=\"Card-title\" href=\"https://www.cnbc.com/2024/05/22/citi-fined-78-million-by-british-regulators-over-fat-finger-trading-and-control-errors-.html\" target=\"\">Citi fined $79 million by British regulators over fat-finger trading and control errors </a>,\n",
       " <a class=\"Card-title\" href=\"https://www.cnbc.com/2024/05/22/chinese-ev-company-xpeng-shares-surge-after-forecasting-delivery-growth.html\" target=\"\">Chinese EV company Xpeng shares surge after forecasting growth in car deliveries</a>,\n",
       " <a class=\"Card-title\" href=\"https://www.cnbc.com/2024/05/21/stocks-making-the-biggest-moves-after-hours-urbn-vsat-tol.html\" target=\"\">Stocks making the biggest moves after hours: Urban Outfitters, Viasat and others</a>,\n",
       " <a class=\"Card-title\" href=\"https://www.cnbc.com/2024/05/21/stocks-making-the-biggest-moves-midday-.html\" target=\"\">Stocks making the biggest moves midday: Peloton, Lam Research, Lowe's and more</a>,\n",
       " <a class=\"Card-title\" href=\"https://www.cnbc.com/2024/05/21/heres-how-to-buy-renewable-energy-from-your-electric-utility.html\" target=\"\">Here's how to buy renewable energy from your electric utility</a>,\n",
       " <a class=\"Card-title\" href=\"https://www.cnbc.com/2024/05/21/fed-governor-waller-wants-several-months-of-good-inflation-data-before-lowering-rates.html\" target=\"\">Fed's Waller wants 'several months' of good data before agreeing to lower rates</a>,\n",
       " <a class=\"Card-title\" href=\"https://www.cnbc.com/2024/05/21/stocks-making-the-biggest-moves-premarket-m-low-pton-zm-and-more.html\" target=\"\">Stocks making the biggest moves premarket: Macy's, Lowe's, Peloton, Zoom Video</a>,\n",
       " <a class=\"Card-title\" href=\"https://www.cnbc.com/2024/05/21/family-offices-target-cyber-hacks-ransomware.html\" target=\"\">Family offices become prime targets for cyber hacks and ransomware </a>,\n",
       " <a class=\"Card-title\" href=\"https://www.cnbc.com/2024/05/21/chinas-sweeping-measures-to-prop-up-the-property-sector-will-need-time.html\" target=\"\">China's measures to prop up the property sector will need time to show results</a>,\n",
       " <a class=\"Card-title\" href=\"https://www.cnbc.com/2024/05/20/jamie-dimon-jpmorgan-stock-too-expensive.html\" target=\"\">Jamie Dimon says JPMorgan stock is too expensive</a>,\n",
       " <a class=\"Card-title\" href=\"https://www.cnbc.com/2024/05/20/jpmorgan-ceo-jamie-dimon-retirement-approaching.html\" target=\"\">JPMorgan CEO Jamie Dimon signals retirement is closer than ever</a>,\n",
       " <a class=\"Card-title\" href=\"https://www.cnbc.com/2024/05/20/stocks-making-the-biggest-moves-midday-hims-hers-health-norwegian-cruise-line-target-and-more.html\" target=\"\">Stocks making the biggest moves midday: Hims &amp; Hers Health, Target and more</a>,\n",
       " <a class=\"Card-title\" href=\"https://www.cnbc.com/2024/05/20/nvidia-is-cheap-heading-into-major-earnings-report-tech-investor-dan-niles-says.html\" target=\"\">Nvidia is cheap heading into major earnings report, tech investor Dan Niles says</a>,\n",
       " <a class=\"Card-title\" href=\"https://www.cnbc.com/2024/05/20/flying-is-cheaper-in-2024-but-not-for-some-destinations.html\" target=\"\">Flying is cheaper in 2024. But not for some destinations</a>,\n",
       " <a class=\"Card-title\" href=\"https://www.cnbc.com/2024/05/20/stocks-making-the-biggest-moves-premarket-aapl-nvda-li.html\" target=\"\">Stocks making the biggest moves premarket: Apple, Nvidia, Li Auto &amp; more</a>,\n",
       " <a class=\"Card-title\" href=\"https://www.cnbc.com/2024/05/19/chinas-hot-ev-market-no-longer-focused-on-lower-prices-stocks-to-watch.html\" target=\"\">China's hot EV market no longer focused on lower prices. Which stocks to watch</a>,\n",
       " <a class=\"Card-title\" href=\"https://www.cnbc.com/2024/05/18/crypto-fraud-and-poor-regulation-may-jeopardize-ether-etf-approval.html\" target=\"\">No ‘cop on the beat’: Why the SEC may deny new ether ETFs this month</a>,\n",
       " <a class=\"Card-title\" href=\"https://www.cnbc.com/2024/05/17/stocks-making-the-biggest-moves-midday-gme-rddt-amd-hood.html\" target=\"\">Stocks making the biggest moves midday: GameStop, Reddit, Robinhood and more</a>,\n",
       " <a class=\"Card-title\" href=\"https://www.cnbc.com/2024/05/17/stocks-making-the-biggest-moves-premarket-gamestop-reddit-take-two-interactive-software-and-more.html\" target=\"\">Stocks making the biggest moves premarket: GameStop, Reddit and more</a>,\n",
       " <a class=\"Card-title\" href=\"https://www.cnbc.com/2024/05/17/hsbc-shares-fall-amid-reports-top-shareholder-ping-an-may-sell-shares.html\" target=\"\">HSBC falls 3% amid reports that shareholder Ping An is looking to trim its stake </a>,\n",
       " <a class=\"Card-title\" href=\"https://www.cnbc.com/2024/05/17/china-economy-april-retail-sales-industrial-production-investment-data.html\" target=\"\">China consumption slows as retail sales and investment data disappoint</a>,\n",
       " <a class=\"Card-title\" href=\"https://www.cnbc.com/2024/05/16/walmart-bubble-due-to-high-income-grocery-spending-warns-bill-simon.html\" target=\"\">Wealthy shoppers creating a 'bubble' at Walmart, says retailer's former U.S. CEO</a>,\n",
       " <a class=\"Card-title\" href=\"https://www.cnbc.com/2024/05/16/canada-goose-goos-q4-earnings-report-2024.html\" target=\"\">Canada Goose jumps 16% after the company reports growth surge in China</a>,\n",
       " <a class=\"Card-title\" href=\"https://www.cnbc.com/2024/05/16/stocks-making-the-biggest-moves-midday-wmt-de-meta-cb-and-more.html\" target=\"\">Stocks making the biggest moves midday: Walmart, Deere, Meta, Chubb and more</a>]"
      ]
     },
     "execution_count": 17,
     "metadata": {},
     "output_type": "execute_result"
    }
   ],
   "execution_count": 17
  },
  {
   "metadata": {},
   "cell_type": "code",
   "outputs": [],
   "execution_count": null,
   "source": [
    "def parse_articles_bs(link):\n",
    "    req = requests.get(link)\n",
    "    soup = BeautifulSoup(req.content, 'html.parser')    \n",
    "    title_text = [t.text for t in soup.find_all(class_=\"Mb(5px)\")]\n",
    "    links = [t.find('a')[\"href\"] for t in soup.find_all(class_=\"Mb(5px)\")]\n",
    "    articles = [get_article(l) for l in links]\n",
    "    \n",
    "    df = pd.DataFrame({'title': title_text, 'link': links, 'content': articles})\n",
    "    return df"
   ],
   "id": "b3485e61bb09a9dd"
  },
  {
   "metadata": {},
   "cell_type": "code",
   "outputs": [],
   "execution_count": 178,
   "source": [
    "def parse_articles_selenium(article_list):\n",
    "    titles = article_list.find_elements(by=By.CLASS_NAME, value=\"sa_text\")\n",
    "    title_text = [t.find_element(by=By.CLASS_NAME, value=\"sa_text_title\").text for t in titles]\n",
    "    links = [t.find_element(by=By.CLASS_NAME, value=\"sa_text_title\").get_attribute(\"href\") for t in titles]\n",
    "    articles = [get_article(l) for l in links]\n",
    "    \n",
    "    df = pd.DataFrame({'title': title_text, 'link': links, 'content': articles})\n",
    "    return df"
   ],
   "id": "dbabb885d2174413"
  },
  {
   "metadata": {
    "ExecuteTime": {
     "end_time": "2024-05-17T09:22:27.222095Z",
     "start_time": "2024-05-17T09:22:27.218098Z"
    }
   },
   "cell_type": "code",
   "source": [
    "def get_article(link: str):\n",
    "    req = requests.get(link)\n",
    "    soup = BeautifulSoup(req.content, 'html.parser')\n",
    "    date = soup.select_one(\"#caas-art-9dffa534-bcd1-3e24-8377-ba1fb9d5347e > article > div > div > div > div > div > div > div:nth-child(1) > div.caas-content-byline-wrapper > div.caas-attr > div > div.caas-attr-time-style > time\")[\"datetime\"]\n",
    "    content = '\\n'.join([p.text for p in soup.find(class_=\"caas-body\").select(\"p\")])\n",
    "    return {\"date\": date, \"content\": content}"
   ],
   "id": "e0acbc2efc7620ab",
   "outputs": [],
   "execution_count": 15
  },
  {
   "metadata": {
    "ExecuteTime": {
     "end_time": "2024-05-17T06:28:37.049153Z",
     "start_time": "2024-05-17T06:28:36.216217Z"
    }
   },
   "cell_type": "code",
   "source": [
    "req = requests.get(\"https://news.naver.com/breakingnews/section/101/259\")\n",
    "soup = BeautifulSoup(req.content, 'html.parser')\n",
    "titles = [t.text.strip('\\n') for t in soup.find_all(class_=\"sa_text_title\")]\n",
    "links = [t['href'] for t in soup.find_all(class_=\"sa_text_title\")]"
   ],
   "id": "d8d034a2901743b8",
   "outputs": [],
   "execution_count": 201
  },
  {
   "metadata": {
    "ExecuteTime": {
     "end_time": "2024-05-17T06:59:24.343289Z",
     "start_time": "2024-05-17T06:59:24.339081Z"
    }
   },
   "cell_type": "code",
   "source": "datetime.date()",
   "id": "549e17edbd309f4e",
   "outputs": [
    {
     "data": {
      "text/plain": [
       "datetime.datetime(2024, 5, 17, 15, 59, 24, 340080)"
      ]
     },
     "execution_count": 210,
     "metadata": {},
     "output_type": "execute_result"
    }
   ],
   "execution_count": 210
  },
  {
   "metadata": {
    "ExecuteTime": {
     "end_time": "2024-05-21T14:09:50.262280Z",
     "start_time": "2024-05-21T14:09:50.258966Z"
    }
   },
   "cell_type": "code",
   "source": [
    "request_headers = {\n",
    "    \"User-Agent\": \"Mozilla/5.0 (Windows NT 10.0; Win64; x64) AppleWebKit/537.36 (KHTML, like Gecko) Chrome/125.0.0.0 Safari/537.36 Edg/125.0.0.0\",\n",
    "    \"Referer\": \"\",\n",
    "}"
   ],
   "id": "d13fa520c33feb87",
   "outputs": [],
   "execution_count": 32
  },
  {
   "metadata": {},
   "cell_type": "markdown",
   "source": "## Free Article",
   "id": "94eabd1b4eb433d9"
  },
  {
   "metadata": {
    "ExecuteTime": {
     "end_time": "2024-05-23T15:06:09.070124Z",
     "start_time": "2024-05-23T15:06:08.290741Z"
    }
   },
   "cell_type": "code",
   "source": [
    "link = \"https://www.cnbc.com/2024/05/17/hsbc-shares-fall-amid-reports-top-shareholder-ping-an-may-sell-shares.html\"\n",
    "req = requests.get(link, headers=request_headers)\n",
    "soup = BeautifulSoup(req.content, 'html.parser')\n",
    "# date = soup.select_one(\"time\")[\"datetime\"]\n",
    "# content = '\\n'.join([p.text for p in soup.find(class_=\"caas-body\").select(\"p\")])"
   ],
   "id": "fde828dc5de0fcfb",
   "outputs": [],
   "execution_count": 70
  },
  {
   "metadata": {
    "ExecuteTime": {
     "end_time": "2024-05-23T15:06:09.077915Z",
     "start_time": "2024-05-23T15:06:09.071129Z"
    }
   },
   "cell_type": "code",
   "source": [
    "date = soup.find(\"time\")\n",
    "date[\"datetime\"]"
   ],
   "id": "b00fb7af21939918",
   "outputs": [
    {
     "data": {
      "text/plain": [
       "'2024-05-17T04:59:24+0000'"
      ]
     },
     "execution_count": 71,
     "metadata": {},
     "output_type": "execute_result"
    }
   ],
   "execution_count": 71
  },
  {
   "metadata": {
    "ExecuteTime": {
     "end_time": "2024-05-23T15:06:09.093946Z",
     "start_time": "2024-05-23T15:06:09.078921Z"
    }
   },
   "cell_type": "code",
   "source": "[g.text for g in soup.find_all(class_=\"group\")]\n",
   "id": "a1390819f04837d2",
   "outputs": [
    {
     "data": {
      "text/plain": [
       "['Citing people familiar with the matter, Bloomberg said that \"one option an internal team at the Chinese insurance giant is considering is further share sales, similar to the $50 million sale it disclosed last week.\"Ping An has butted heads with HSBC\\'s management in recent years, most notably supporting a shareholder motion in 2023 that sought to spin off its Asia business and establish fixed dividends.',\n",
       " \"Shares of HSBC Holdings fell over 3% in Hong Kong on Friday after reports that its top shareholder Ping An Insurance might be looking to cut its stake in the British bank.Despite the fall, HSBC's share price is still at its highest since August 2018, trading at about 68 Hong Kong dollars per share.\",\n",
       " 'Citing people familiar with the matter, Bloomberg reported the Chinese insurer is looking at possibly reducing its stake in the bank further \"as it seeks to reduce its $13.3 billion position in Europe\\'s largest lender.\"There are several options including \"further share sales, similar to the $50 million sale it disclosed last week.\"Ping An sold HSBC shares worth 391.49 million Hong Kong dollars ($50.19 million) on May 7, cutting its stake from 8.01% to 7.98%.The sale marked the first disposal of shares from Ping An since it backed a 2023 shareholder motion that sought to spin off its Asia business and establish fixed dividends. That motion was eventually defeated.\"A sovereign wealth fund or ultra-rich investor in the Middle East taking a sizable stake is another possibility,\" Bloomberg said, citing unnamed sources.']"
      ]
     },
     "execution_count": 72,
     "metadata": {},
     "output_type": "execute_result"
    }
   ],
   "execution_count": 72
  },
  {
   "metadata": {},
   "cell_type": "markdown",
   "source": "## Premium Article",
   "id": "63eff39ce3570152"
  },
  {
   "metadata": {
    "ExecuteTime": {
     "end_time": "2024-05-23T14:18:27.382012Z",
     "start_time": "2024-05-23T14:18:26.465168Z"
    }
   },
   "cell_type": "code",
   "source": [
    "link = \"https://www.cnbc.com/2024/05/13/why-honeywell-investors-should-stay-long-despite-the-stocks-recovery.html\"\n",
    "req = requests.get(link, headers=request_headers)\n",
    "soup = BeautifulSoup(req.content, 'html.parser')\n",
    "# date = soup.select_one(\"time\")[\"datetime\"]\n",
    "# content = '\\n'.join([p.text for p in soup.find(class_=\"caas-body\").select(\"p\")])"
   ],
   "id": "11a453d444836d92",
   "outputs": [],
   "execution_count": 40
  },
  {
   "metadata": {
    "ExecuteTime": {
     "end_time": "2024-05-23T14:18:50.769921Z",
     "start_time": "2024-05-23T14:18:50.761541Z"
    }
   },
   "cell_type": "code",
   "source": "soup.find(class_=\"xyz-data\").text",
   "id": "b8d90501e6a453f",
   "outputs": [
    {
     "data": {
      "text/plain": [
       "'Every weekday the CNBC Investing Club with Jim Cramer holds a \"Morning Meeting\" livestream at 10:20 a.m. ET. Here\\'s a recap of Monday\\'s key moments. Stocks were subdued to start the week as Wall Street looks to keep its winning ways going. Last week, the Dow Jones Industrial Average secured its best weekly performance of 2024, up 2.16%, while the S & P 500 and Nasdaq advanced 1.85% and 1.14%, respectively. There was largely an \"absence of news\" last week, Jim Cramer noted, and yet stocks were still able to advance. \"That\\'s a bull market,\" Jim said. This week, though, inflation data will take center stage, with the release of the closely watched consumer price index Wednesday morning. Wholesale inflation data is out Tuesday. Apple shares jumped more than 1.5% Monday after Bloomberg News reported the company is nearing a deal with ChatGPT creator OpenAI to put its generative artificial intelligence technology in the next iPhone operating system. Apple declined Bloomberg\\'s request for comment. In general, we have argued that integration of the nascent tech into Apple\\'s flagship device will lead to a much-needed upgrade cycle. Investors should expect to hear more about management\\'s AI strategy at Apple\\'s annual Worldwide Developers Conference in June. Honeywell International shares rose more than 1% Monday, as the Club holding continues to rebound after a lackluster start to 2024. The stock is up about 8% since its low close of the year on April 17. However, don\\'t offload shares of the industrial conglomerate now that it\\'s gaining traction, Jim argued, adding that its newfound momentum may attract new investors. \"Don\\'t sell Honeywell,\" he said. \"This stock has been stuck in the mud for ages.\" The Club is staying long, in part, because the relatively new CEO, Vimal Kapur, can further streamline Honeywell\\'s vast business portfolio and lean into more lucrative areas. We added to our Honeywell position on April 10. (Jim Cramer\\'s Charitable Trust is long HON, AAPL. See here for a full list of the stocks.) As a subscriber to the CNBC Investing Club with Jim Cramer, you will receive a trade alert before Jim makes a trade. Jim waits 45 minutes after sending a trade alert before buying or selling a stock in his charitable trust\\'s portfolio. If Jim has talked about a stock on CNBC TV, he waits 72 hours after issuing the trade alert before executing the trade. THE ABOVE INVESTING CLUB INFORMATION IS SUBJECT TO OUR TERMS AND CONDITIONS AND PRIVACY POLICY , TOGETHER WITH OUR DISCLAIMER . NO FIDUCIARY OBLIGATION OR DUTY EXISTS, OR IS CREATED, BY VIRTUE OF YOUR RECEIPT OF ANY INFORMATION PROVIDED IN CONNECTION WITH THE INVESTING CLUB. NO SPECIFIC OUTCOME OR PROFIT IS GUARANTEED.'"
      ]
     },
     "execution_count": 43,
     "metadata": {},
     "output_type": "execute_result"
    }
   ],
   "execution_count": 43
  },
  {
   "metadata": {
    "ExecuteTime": {
     "end_time": "2024-05-23T14:20:46.202749Z",
     "start_time": "2024-05-23T14:20:46.197843Z"
    }
   },
   "cell_type": "code",
   "source": "soup.find(\"time\")",
   "id": "e4435bc026222688",
   "outputs": [
    {
     "data": {
      "text/plain": [
       "<time data-testid=\"published-timestamp\" datetime=\"2024-05-13T16:14:26+0000\" itemprop=\"datePublished\">Published Mon, May 13 2024<span class=\"ArticleHeader-datetimeDivider\"></span>12:14 PM EDT</time>"
      ]
     },
     "execution_count": 44,
     "metadata": {},
     "output_type": "execute_result"
    }
   ],
   "execution_count": 44
  },
  {
   "metadata": {
    "ExecuteTime": {
     "end_time": "2024-05-23T15:03:54.741424Z",
     "start_time": "2024-05-23T15:03:54.735218Z"
    }
   },
   "cell_type": "code",
   "source": [
    "card_container = \"Card-titleContainer\"\n",
    "premium_content = \"InvestingClubPill-investingClubPillLink\"\n",
    "title_content = \"Card-title\"\n",
    "date_selector = \"time\"\n",
    "content_class_free = \"caas-body\"\n",
    "content_class_premium = \"xyz-data\"\n",
    "        \n",
    "def get_article(link: str):\n",
    "    print(link)\n",
    "    try:\n",
    "        req = requests.get(link, headers=request_headers)\n",
    "        soup = BeautifulSoup(req.content, \"html.parser\")\n",
    "        date = soup.find(\"time\")[\"datetime\"]\n",
    "        content = (\n",
    "            \"\\n\".join(\n",
    "                [g.text for g in soup.find_all(class_=content_class_free)]\n",
    "            )\n",
    "            if soup.find(class_=content_class_premium) is None\n",
    "            else soup.find(class_=content_class_premium).text\n",
    "       )\n",
    "        print(content)\n",
    "\n",
    "    except Exception as e:\n",
    "        print(str(e) + link)\n",
    "        return None\n",
    "    return {\"date\": date, \"content\": content}\n"
   ],
   "id": "9d385ff8446d7ff5",
   "outputs": [],
   "execution_count": 59
  },
  {
   "metadata": {
    "ExecuteTime": {
     "end_time": "2024-05-23T15:03:55.834150Z",
     "start_time": "2024-05-23T15:03:54.942411Z"
    }
   },
   "cell_type": "code",
   "source": "get_article(\"https://www.cnbc.com/2024/05/17/hsbc-shares-fall-amid-reports-top-shareholder-ping-an-may-sell-shares.html\")",
   "id": "71dd6da5024d186a",
   "outputs": [
    {
     "name": "stdout",
     "output_type": "stream",
     "text": [
      "https://www.cnbc.com/2024/05/17/hsbc-shares-fall-amid-reports-top-shareholder-ping-an-may-sell-shares.html\n",
      "\n"
     ]
    },
    {
     "data": {
      "text/plain": [
       "{'date': '2024-05-17T04:59:24+0000', 'content': ''}"
      ]
     },
     "execution_count": 60,
     "metadata": {},
     "output_type": "execute_result"
    }
   ],
   "execution_count": 60
  },
  {
   "metadata": {
    "ExecuteTime": {
     "end_time": "2024-05-23T15:05:22.177443Z",
     "start_time": "2024-05-23T15:05:21.046429Z"
    }
   },
   "cell_type": "code",
   "source": [
    "link = \"https://www.cnbc.com/2024/05/17/hsbc-shares-fall-amid-reports-top-shareholder-ping-an-may-sell-shares.html\"\n",
    "req = requests.get(link, headers=request_headers)\n",
    "content = (soup.find(class_=content_class_premium).text\n",
    "        )"
   ],
   "id": "d799921385e1bb1c",
   "outputs": [],
   "execution_count": 65
  },
  {
   "metadata": {
    "ExecuteTime": {
     "end_time": "2024-05-23T15:05:22.414462Z",
     "start_time": "2024-05-23T15:05:22.409549Z"
    }
   },
   "cell_type": "code",
   "source": "content",
   "id": "1d5c23c6ee01f5e0",
   "outputs": [
    {
     "data": {
      "text/plain": [
       "'Every weekday the CNBC Investing Club with Jim Cramer holds a \"Morning Meeting\" livestream at 10:20 a.m. ET. Here\\'s a recap of Monday\\'s key moments. Stocks were subdued to start the week as Wall Street looks to keep its winning ways going. Last week, the Dow Jones Industrial Average secured its best weekly performance of 2024, up 2.16%, while the S & P 500 and Nasdaq advanced 1.85% and 1.14%, respectively. There was largely an \"absence of news\" last week, Jim Cramer noted, and yet stocks were still able to advance. \"That\\'s a bull market,\" Jim said. This week, though, inflation data will take center stage, with the release of the closely watched consumer price index Wednesday morning. Wholesale inflation data is out Tuesday. Apple shares jumped more than 1.5% Monday after Bloomberg News reported the company is nearing a deal with ChatGPT creator OpenAI to put its generative artificial intelligence technology in the next iPhone operating system. Apple declined Bloomberg\\'s request for comment. In general, we have argued that integration of the nascent tech into Apple\\'s flagship device will lead to a much-needed upgrade cycle. Investors should expect to hear more about management\\'s AI strategy at Apple\\'s annual Worldwide Developers Conference in June. Honeywell International shares rose more than 1% Monday, as the Club holding continues to rebound after a lackluster start to 2024. The stock is up about 8% since its low close of the year on April 17. However, don\\'t offload shares of the industrial conglomerate now that it\\'s gaining traction, Jim argued, adding that its newfound momentum may attract new investors. \"Don\\'t sell Honeywell,\" he said. \"This stock has been stuck in the mud for ages.\" The Club is staying long, in part, because the relatively new CEO, Vimal Kapur, can further streamline Honeywell\\'s vast business portfolio and lean into more lucrative areas. We added to our Honeywell position on April 10. (Jim Cramer\\'s Charitable Trust is long HON, AAPL. See here for a full list of the stocks.) As a subscriber to the CNBC Investing Club with Jim Cramer, you will receive a trade alert before Jim makes a trade. Jim waits 45 minutes after sending a trade alert before buying or selling a stock in his charitable trust\\'s portfolio. If Jim has talked about a stock on CNBC TV, he waits 72 hours after issuing the trade alert before executing the trade. THE ABOVE INVESTING CLUB INFORMATION IS SUBJECT TO OUR TERMS AND CONDITIONS AND PRIVACY POLICY , TOGETHER WITH OUR DISCLAIMER . NO FIDUCIARY OBLIGATION OR DUTY EXISTS, OR IS CREATED, BY VIRTUE OF YOUR RECEIPT OF ANY INFORMATION PROVIDED IN CONNECTION WITH THE INVESTING CLUB. NO SPECIFIC OUTCOME OR PROFIT IS GUARANTEED.'"
      ]
     },
     "execution_count": 66,
     "metadata": {},
     "output_type": "execute_result"
    }
   ],
   "execution_count": 66
  },
  {
   "metadata": {},
   "cell_type": "code",
   "outputs": [],
   "execution_count": null,
   "source": "",
   "id": "b53cbb1cef51e1c"
  }
 ],
 "metadata": {
  "kernelspec": {
   "display_name": "Python 3",
   "language": "python",
   "name": "python3"
  },
  "language_info": {
   "codemirror_mode": {
    "name": "ipython",
    "version": 2
   },
   "file_extension": ".py",
   "mimetype": "text/x-python",
   "name": "python",
   "nbconvert_exporter": "python",
   "pygments_lexer": "ipython2",
   "version": "2.7.6"
  }
 },
 "nbformat": 4,
 "nbformat_minor": 5
}
