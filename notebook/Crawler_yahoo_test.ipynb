{
 "cells": [
  {
   "metadata": {
    "ExecuteTime": {
     "end_time": "2024-05-17T05:56:47.904566Z",
     "start_time": "2024-05-17T05:56:17.380396Z"
    }
   },
   "cell_type": "code",
   "source": [
    "# !pip install --upgrade pip\n",
    "# !pip install bs4 selenium black pandas --quiet"
   ],
   "id": "e72139ca628829fc",
   "outputs": [],
   "execution_count": 182
  },
  {
   "metadata": {
    "ExecuteTime": {
     "end_time": "2024-05-22T14:35:58.834558Z",
     "start_time": "2024-05-22T14:35:57.958313Z"
    }
   },
   "cell_type": "code",
   "source": [
    "from selenium import webdriver\n",
    "from selenium.webdriver.common.by import By\n",
    "import requests\n",
    "import re\n",
    "import pandas as pd\n",
    "import time\n",
    "from bs4 import BeautifulSoup\n",
    "from datetime import datetime"
   ],
   "id": "36138a4be837e999",
   "outputs": [],
   "execution_count": 6
  },
  {
   "metadata": {
    "ExecuteTime": {
     "end_time": "2024-05-17T09:13:53.846487Z",
     "start_time": "2024-05-17T09:13:53.842511Z"
    }
   },
   "cell_type": "code",
   "source": [
    "sites = {\n",
    "    \"yahoo\": {\n",
    "        \"base_url\": \"https://finance.yahoo.com/topic/\",\n",
    "        \"category\": {\n",
    "            \"economics\": \"economic-news\",\n",
    "            \"tech\": \"tech\",\n",
    "            \"housing\": \"housing-market\",\n",
    "        },\n",
    "    }\n",
    "}"
   ],
   "id": "c9a707d673c5b9c",
   "outputs": [],
   "execution_count": 6
  },
  {
   "metadata": {
    "ExecuteTime": {
     "end_time": "2024-05-22T14:36:38.926770Z",
     "start_time": "2024-05-22T14:36:38.863769Z"
    }
   },
   "cell_type": "code",
   "source": [
    "request_headers = {\n",
    "    \"User-Agent\": \"Mozilla/5.0 (Windows NT 10.0; Win64; x64) AppleWebKit/537.36 (KHTML, like Gecko) Chrome/125.0.0.0 Safari/537.36 Edg/125.0.0.0\",\n",
    "    \"Referer\": \"\",\n",
    "}"
   ],
   "id": "fed284b670812e03",
   "outputs": [],
   "execution_count": 10
  },
  {
   "metadata": {
    "ExecuteTime": {
     "end_time": "2024-05-22T14:36:40.792226Z",
     "start_time": "2024-05-22T14:36:38.997293Z"
    }
   },
   "cell_type": "code",
   "source": [
    "req = requests.get(\"https://finance.yahoo.com/topic/economic-news/\")\n",
    "soup = BeautifulSoup(req.content, 'html.parser')\n",
    "# article_titles = [t.text for t in soup.find_all(class_=\"Mb(5px)\")]\n",
    "# links = [t.find('a')[\"href\"] for t in soup.find_all(class_=\"Mb(5px)\")]\n",
    "titles = soup.find_all(class_=\"Mb(5px)\")\n",
    "title_text = [t.text for t in titles]\n",
    "links = [t.find(\"a\")[\"href\"] for t in titles]"
   ],
   "id": "58497c44b484f7fe",
   "outputs": [],
   "execution_count": 11
  },
  {
   "metadata": {
    "ExecuteTime": {
     "end_time": "2024-05-22T14:36:40.797628Z",
     "start_time": "2024-05-22T14:36:40.793231Z"
    }
   },
   "cell_type": "code",
   "source": "len(titles)",
   "id": "210e2eb20030fd4d",
   "outputs": [
    {
     "data": {
      "text/plain": [
       "2"
      ]
     },
     "execution_count": 12,
     "metadata": {},
     "output_type": "execute_result"
    }
   ],
   "execution_count": 12
  },
  {
   "metadata": {
    "ExecuteTime": {
     "end_time": "2024-05-17T09:16:03.576820Z",
     "start_time": "2024-05-17T09:16:03.572759Z"
    }
   },
   "cell_type": "code",
   "source": "links",
   "id": "a57cc9c87cd99e31",
   "outputs": [
    {
     "data": {
      "text/plain": [
       "['https://finance.yahoo.com/news/asian-stocks-drop-traders-rethink-224525599.html',\n",
       " 'https://finance.yahoo.com/news/oil-set-eke-weekly-gain-232819911.html',\n",
       " 'https://finance.yahoo.com/news/oil-set-weekly-gain-signs-010613579.html',\n",
       " 'https://finance.yahoo.com/news/suriname-oil-resources-seen-totaling-223930531.html',\n",
       " 'https://finance.yahoo.com/news/fed-mester-suggests-interest-rates-160000693.html',\n",
       " 'https://finance.yahoo.com/news/petro-meets-colombian-central-bankers-220147115.html',\n",
       " 'https://finance.yahoo.com/news/firefighters-gain-control-one-blaze-195526122.html',\n",
       " 'https://finance.yahoo.com/news/oil-ticks-higher-us-stockpile-232703377.html',\n",
       " 'https://finance.yahoo.com/news/us-proposes-ending-federal-leases-174509228.html',\n",
       " 'https://finance.yahoo.com/news/banks-continue-become-increasingly-less-173404596.html']"
      ]
     },
     "execution_count": 13,
     "metadata": {},
     "output_type": "execute_result"
    }
   ],
   "execution_count": 13
  },
  {
   "metadata": {},
   "cell_type": "code",
   "outputs": [],
   "execution_count": null,
   "source": [
    "def parse_articles_bs(link):\n",
    "    req = requests.get(link)\n",
    "    soup = BeautifulSoup(req.content, 'html.parser')    \n",
    "    title_text = [t.text for t in soup.find_all(class_=\"Mb(5px)\")]\n",
    "    links = [t.find('a')[\"href\"] for t in soup.find_all(class_=\"Mb(5px)\")]\n",
    "    articles = [get_article(l) for l in links]\n",
    "    \n",
    "    df = pd.DataFrame({'title': title_text, 'link': links, 'content': articles})\n",
    "    return df"
   ],
   "id": "b3485e61bb09a9dd"
  },
  {
   "metadata": {},
   "cell_type": "code",
   "outputs": [],
   "execution_count": 178,
   "source": [
    "def parse_articles_selenium(article_list):\n",
    "    titles = article_list.find_elements(by=By.CLASS_NAME, value=\"sa_text\")\n",
    "    title_text = [t.find_element(by=By.CLASS_NAME, value=\"sa_text_title\").text for t in titles]\n",
    "    links = [t.find_element(by=By.CLASS_NAME, value=\"sa_text_title\").get_attribute(\"href\") for t in titles]\n",
    "    articles = [get_article(l) for l in links]\n",
    "    \n",
    "    df = pd.DataFrame({'title': title_text, 'link': links, 'content': articles})\n",
    "    return df"
   ],
   "id": "dbabb885d2174413"
  },
  {
   "metadata": {
    "ExecuteTime": {
     "end_time": "2024-05-17T09:22:27.222095Z",
     "start_time": "2024-05-17T09:22:27.218098Z"
    }
   },
   "cell_type": "code",
   "source": [
    "def get_article(link: str):\n",
    "    req = requests.get(link)\n",
    "    soup = BeautifulSoup(req.content, 'html.parser')\n",
    "    date = soup.select_one(\"#caas-art-9dffa534-bcd1-3e24-8377-ba1fb9d5347e > article > div > div > div > div > div > div > div:nth-child(1) > div.caas-content-byline-wrapper > div.caas-attr > div > div.caas-attr-time-style > time\")[\"datetime\"]\n",
    "    content = '\\n'.join([p.text for p in soup.find(class_=\"caas-body\").select(\"p\")])\n",
    "    return {\"date\": date, \"content\": content}"
   ],
   "id": "e0acbc2efc7620ab",
   "outputs": [],
   "execution_count": 15
  },
  {
   "metadata": {
    "ExecuteTime": {
     "end_time": "2024-05-17T06:28:37.049153Z",
     "start_time": "2024-05-17T06:28:36.216217Z"
    }
   },
   "cell_type": "code",
   "source": [
    "req = requests.get(\"https://news.naver.com/breakingnews/section/101/259\")\n",
    "soup = BeautifulSoup(req.content, 'html.parser')\n",
    "titles = [t.text.strip('\\n') for t in soup.find_all(class_=\"sa_text_title\")]\n",
    "links = [t['href'] for t in soup.find_all(class_=\"sa_text_title\")]"
   ],
   "id": "d8d034a2901743b8",
   "outputs": [],
   "execution_count": 201
  },
  {
   "metadata": {
    "ExecuteTime": {
     "end_time": "2024-05-17T06:59:24.343289Z",
     "start_time": "2024-05-17T06:59:24.339081Z"
    }
   },
   "cell_type": "code",
   "source": "datetime.date()",
   "id": "549e17edbd309f4e",
   "outputs": [
    {
     "data": {
      "text/plain": [
       "datetime.datetime(2024, 5, 17, 15, 59, 24, 340080)"
      ]
     },
     "execution_count": 210,
     "metadata": {},
     "output_type": "execute_result"
    }
   ],
   "execution_count": 210
  },
  {
   "metadata": {
    "ExecuteTime": {
     "end_time": "2024-05-21T14:09:50.262280Z",
     "start_time": "2024-05-21T14:09:50.258966Z"
    }
   },
   "cell_type": "code",
   "source": [
    "request_headers = {\n",
    "    \"User-Agent\": \"Mozilla/5.0 (Windows NT 10.0; Win64; x64) AppleWebKit/537.36 (KHTML, like Gecko) Chrome/125.0.0.0 Safari/537.36 Edg/125.0.0.0\",\n",
    "    \"Referer\": \"\",\n",
    "}"
   ],
   "id": "d13fa520c33feb87",
   "outputs": [],
   "execution_count": 32
  },
  {
   "metadata": {
    "ExecuteTime": {
     "end_time": "2024-05-21T14:09:52.317927Z",
     "start_time": "2024-05-21T14:09:50.425238Z"
    }
   },
   "cell_type": "code",
   "source": [
    "link = 'https://finance.yahoo.com/news/york-lawmakers-pass-237-billion-203737865.html'\n",
    "req = requests.get(link, headers=request_headers)\n",
    "soup = BeautifulSoup(req.content, 'html.parser')\n",
    "# date = soup.select_one(\"time\")[\"datetime\"]\n",
    "# content = '\\n'.join([p.text for p in soup.find(class_=\"caas-body\").select(\"p\")])"
   ],
   "id": "fde828dc5de0fcfb",
   "outputs": [],
   "execution_count": 33
  },
  {
   "metadata": {
    "ExecuteTime": {
     "end_time": "2024-05-21T14:10:03.810371Z",
     "start_time": "2024-05-21T14:10:03.803977Z"
    }
   },
   "cell_type": "code",
   "source": [
    "date = soup.find(\"time\")\n",
    "date"
   ],
   "id": "b00fb7af21939918",
   "outputs": [
    {
     "data": {
      "text/plain": [
       "<time class=\"caas-attr-meta-time\" datetime=\"2024-04-21T00:52:43.000Z\">Sun, Apr 21, 2024, 9:52 AM</time>"
      ]
     },
     "execution_count": 36,
     "metadata": {},
     "output_type": "execute_result"
    }
   ],
   "execution_count": 36
  },
  {
   "metadata": {
    "ExecuteTime": {
     "end_time": "2024-05-21T14:09:53.809629Z",
     "start_time": "2024-05-21T14:09:53.804901Z"
    }
   },
   "cell_type": "code",
   "source": "soup.text\n",
   "id": "a1390819f04837d2",
   "outputs": [
    {
     "data": {
      "text/plain": [
       "'New York lawmakers pass $237 billion budget with policies to jump-start housing market           News Today\\'s news  US  Politics  World  Tech  Reviews and deals  Audio  Computing  Gaming  Health  Home  Phones  Science  TVs    Climate change  Health  Science  2024 election  Originals  The 360      Life Health  COVID-19  Fall allergies  Health news  Mental health  Relax  Sexual health  Studies  The Unwind    Parenting  Family health  So mini ways    Style and beauty  It Figures  Unapologetically    Horoscopes  Shopping  Buying guides    Food  Travel  Autos  Gift ideas  Buying guides    Entertainment Celebrity  TV  Movies  Music  How to Watch  Interviews  Videos  Shopping     Finance My Portfolio  My Portfolio    News  Latest News  Stock Market  Originals  Premium News  Economics  Housing  Earnings  Tech  Crypto  Biden Economy  EV Deep Dive    Markets  Stocks: Most Actives  Stocks: Gainers  Stocks: Losers  Calendars  Trending Tickers  Futures  World Indices  US Treasury Bonds  Currencies  Crypto  Top ETFs  Top Mutual Funds  Highest Open Interest  Highest Implied Volatility  Stock Comparison  Advanced Charts  Currency Converter    Sectors  Basic Materials  Communication Services  Consumer Cyclical  Consumer Defensive  Energy  Financial Services  Healthcare  Industrials  Real Estate  Technology  Utilities    Screeners  Watchlists  Equities  ETFs  Futures  Index  Mutual Funds    Personal Finance  Credit cards  Balance Transfer Cards  Cash-back Cards  Rewards Cards  Travel Cards  Banking  Personal Loans  Student Loans  Insurance  Car Insurance  Mortgages  Taxes    Videos  Morning Brief  Catalysts  Wealth  Market Domination  Market Domination Overtime  Opening Bid  Stocks in Translation  NEXT  Lead This Way  Good Buy or Goodbye?  Asking for a Trend  ETF Report      Sports Fantasy  News  Fantasy football  Best Ball  Pro Pick \\'Em  College Pick \\'Em  Fantasy baseball  Fantasy hockey  Fantasy basketball  Download the app    Daily fantasy  NFL  News  Scores and schedules  Standings  Stats  Teams  Players  Drafts  Injuries  Odds  Super Bowl  GameChannel  Videos    MLB  News  Scores and schedules  Standings  Stats  Teams  Players  Odds  Videos  World Baseball Classic    NBA  News  Draft  Scores and schedules  Standings  Stats  Teams  Players  Injuries  Videos  Odds  Playoffs    NHL  News  Scores and schedules  Standings  Stats  Teams  Players  Odds  Playoffs    Soccer  News  Scores and schedules  Premier League  MLS  NWSL  Liga MX  CONCACAF League  Champions League  La Liga  Serie A  Bundesliga  Ligue 1  World Cup    College football  News  Scores and schedules  Standings  Rankings  Stats  Teams    Show all  MMA  WNBA  Sportsbook  NCAAF  Tennis  Golf  NASCAR  NCAAB  NCAAW  Boxing  USFL  Cycling  Motorsports  Olympics  Horse racing  GameChannel  Rivals  Newsletters  Podcasts  Videos  RSS  Jobs  Help  World Cup  More news     New on Yahoo Games Tech    Terms  Privacy  Privacy Dashboard   Feedback   © 2024  All rights reserved.  About our ads  Advertising  Careers    Yahoo Finance                             Yahoo Finance    Search query                  Select an edition  USEnglish   US y LATAMEspañol  AustraliaEnglish  CanadaEnglish  CanadaFrançais  DeutschlandDeutsch  FranceFrançais  香港繁中  MalaysiaEnglish  New ZealandEnglish  SingaporeEnglish  台灣繁中  UKEnglish     News   Finance   Sports   More News Today\\'s news  US  Politics  World  Weather  Climate change  Health  Science  2024 election  Originals   Life Health  Parenting  Style and beauty  Horoscopes  Shopping  Food  Travel  Autos  Gift ideas  Buying guides   Entertainment Celebrity  TV  Movies  Music  How to watch  Interviews  Videos  Shopping   Finance My portfolio  Watchlists  Markets  News  Videos  Screeners  Personal finance  Crypto  Industries   Sports Fantasy  NFL  NBA  MLB  NHL  College football  College basketball  Soccer  MMA  Yahoo Sports AM    New on Yahoo Games Tech    Selected edition   USEnglish            Mail    Sign in      My Portfolio    My Portfolio    News    Latest News Stock Market Originals Premium News Economics Housing Earnings Tech Crypto Biden Economy EV Deep Dive    Markets    Stocks: Most Actives Stocks: Gainers Stocks: Losers Calendars Trending Tickers Futures World Indices US Treasury Bonds Currencies Crypto Top ETFs Top Mutual Funds Highest Open Interest Highest Implied Volatility Stock Comparison Advanced Charts Currency Converter    Sectors    Basic Materials Communication Services Consumer Cyclical Consumer Defensive Energy Financial Services Healthcare Industrials Real Estate Technology Utilities    Screeners    Watchlists Equities ETFs Futures Index Mutual Funds    Personal Finance    Credit cards Balance Transfer Cards Cash-back Cards Rewards Cards Travel Cards Banking Personal Loans Student Loans Insurance Car Insurance Mortgages Taxes    Videos    Morning Brief Catalysts Wealth Market Domination Market Domination Overtime Opening Bid Stocks in Translation NEXT Lead This Way Good Buy or Goodbye? Asking for a Trend ETF Report    … \\n\\nBack to classic\\n\\n\\n\\n\\n\\n       Read full articleAssociated Press FinanceNew York lawmakers pass $237 billion budget with policies to jump-start housing marketFILE - The New York state Assembly Chamber is seen during a legislative session after Gov. Kathy Hochul presented her 2025 executive state budget at the state Capitol, Jan. 16, 2024, in Albany, N.Y. New York lawmakers passed a $237 billion state budget Saturday, April 20, that includes plans to spur housing construction and combat unlicensed marijuana stores. (AP Photo/Hans Pennink, File)·Associated Press Finance· (ASSOCIATED PRESS)MAYSOON KHAN and ANTHONY IZAGUIRREUpdated Sun, Apr 21, 2024, 9:52 AM3 min readLink Copied7ALBANY, N.Y. (AP) — New York lawmakers passed a $237 billion state budget Saturday that includes plans to spur housing construction and combat unlicensed marijuana stores.The package also includes a raft of other measures such as expediting the closure of some state prisons, addressing a recent influx of migrants and continuing the pandemic-era policy of allowing people to buy takeout cocktails.The state Senate and Assembly finished working through several budget bills Saturday after hours of debate. The spending plan now moves to Gov. Kathy Hochul to be signed into law, which she is expected to do.The negotiations, which were conducted in private between the governor and top legislative leaders, largely hinged on a sweeping proposal to jump-start the state\\'s housing market.The plan offers developers a tax break if they agree to rent a portion of apartments in new buildings for below market price. The deal also includes measures to protect some tenants against unreasonable rent increases and evictions, though it was not as comprehensive as many advocates had wanted.“This budget agreement represents the most significant improvement in housing policy in three generations,” Hochul said in a statement.The state had a similar tax break before, but it expired in 2022. Hochul and other supporters have long said that such an incentive is a vital lure for development, though critics consider it too costly and favorable to developers.“Governor Hochul did not solve the housing crisis — instead she pushed through a housing deal written by the real estate industry to ensure they keep getting richer off the backs of hardworking tenants,\" Cea Weaver, the coalition director for Housing Justice for All, said in a statement.Lawmakers also moved to address the explosion of unlicensed cannabis storefronts in New York City. Bureaucratic hurdles have made it difficult for the state to shut down the shops, which have become ubiquitous in the Big Apple.To help solve the problem, the budget includes policies that would allow local law enforcement to more easily shutter stores accused of selling marijuana illicitly while their cases play out. Previously, most enforcement could only be done by the state, and such stores were able to stay open while a lengthy appeals process played out.State officials also earmarked $2.4 billion to care for an influx of international migrants who have overwhelmed New York City\\'s homeless shelters. The money will go toward housing, legal services and health care for the migrant population.Story continuesState Senate Republican Leader Rob Ortt criticized that measure during floor debates, saying it would encourage more migrants to come to New York.“We made a lot of tough decisions in this budget,” Ortt said. “But 2.4 billion goes a long way, and I just wonder what that could have done in other parts of the budget for legal New Yorkers.”Additionally, New York will expedite the closure of up to five state prisons in an effort to save money amid the state\\'s declining prison population. The governor has until next March to choose which prisons will close. The state has shuttered two dozen correctional facilities since 2011 because of vacant beds, saving about $442 million annually, according to the state corrections department.The budget also contained measures that would offer paid time off during pregnancies, enable New York City to lower its speed limits and expand access to booze, with proposals to extend the pandemic-era sale of to-go alcoholic drinks and allow movie theaters to sell hard liquor.The budget was finalized about three weeks after its original April 1 due date and came after a cyberattack hampered the state office that drafts bills for the Legislature.View commentsAdvertisementUp next Advertisement        U.S. markets close in 5h 51m   Customize Your Dock      Markets    US    Europe    Asia    Rates    Commodities    Currencies    Cryptocurrencies     S&P 500   5,308.07 -0.06 (-0.00%)   Dow 30   39,860.56 +53.79 (+0.14%)   Nasdaq   16,763.33 -31.55 (-0.19%)   Russell 2000   2,098.35 -4.15 (-0.20%)   Crude Oil   79.11 -0.69 (-0.86%)   Gold   2,431.30 -7.20 (-0.30%)             My Portfolios    My Portfolios   Sign in to create a watchlist Sign in       Trending Tickers      PANW Palo Alto Networks, Inc. 306.83 -16.94 (-5.23%)    ETH-USD Ethereum USD 3,780.79 +688.38 (+22.26%)    HIMS Hims & Hers Health, Inc. 18.15 -0.45 (-2.45%)    LOW Lowe\\'s Companies, Inc. 223.54 -5.63 (-2.46%)    BTC-USD Bitcoin USD 70,744.20 +3,687.59 (+5.50%)       Top Economic Events         Terms   and Privacy Policy   Privacy Dashboard   Ad Terms   Suggestions         \\n\\n\\n\\n\\n\\n\\n\\n\\n\\n\\n\\n\\n '"
      ]
     },
     "execution_count": 35,
     "metadata": {},
     "output_type": "execute_result"
    }
   ],
   "execution_count": 35
  },
  {
   "metadata": {
    "ExecuteTime": {
     "end_time": "2024-05-21T14:02:23.333125Z",
     "start_time": "2024-05-21T14:02:23.329346Z"
    }
   },
   "cell_type": "code",
   "source": "req.url",
   "id": "11a453d444836d92",
   "outputs": [
    {
     "data": {
      "text/plain": [
       "'https://finance.yahoo.com/news/york-lawmakers-pass-237-billion-203737865.html'"
      ]
     },
     "execution_count": 29,
     "metadata": {},
     "output_type": "execute_result"
    }
   ],
   "execution_count": 29
  },
  {
   "metadata": {},
   "cell_type": "code",
   "outputs": [],
   "execution_count": null,
   "source": "",
   "id": "b8d90501e6a453f"
  }
 ],
 "metadata": {
  "kernelspec": {
   "display_name": "Python 3",
   "language": "python",
   "name": "python3"
  },
  "language_info": {
   "codemirror_mode": {
    "name": "ipython",
    "version": 2
   },
   "file_extension": ".py",
   "mimetype": "text/x-python",
   "name": "python",
   "nbconvert_exporter": "python",
   "pygments_lexer": "ipython2",
   "version": "2.7.6"
  }
 },
 "nbformat": 4,
 "nbformat_minor": 5
}
