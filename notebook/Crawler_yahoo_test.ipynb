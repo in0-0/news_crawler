{
 "cells": [
  {
   "metadata": {
    "ExecuteTime": {
     "end_time": "2024-05-17T05:56:47.904566Z",
     "start_time": "2024-05-17T05:56:17.380396Z"
    }
   },
   "cell_type": "code",
   "source": [
    "# !pip install --upgrade pip\n",
    "# !pip install bs4 selenium black pandas --quiet"
   ],
   "id": "e72139ca628829fc",
   "outputs": [],
   "execution_count": 182
  },
  {
   "metadata": {
    "ExecuteTime": {
     "end_time": "2024-05-17T09:13:22.742800Z",
     "start_time": "2024-05-17T09:13:21.731124Z"
    }
   },
   "cell_type": "code",
   "source": [
    "from selenium import webdriver\n",
    "from selenium.webdriver.common.by import By\n",
    "import requests\n",
    "import re\n",
    "import pandas as pd\n",
    "import time\n",
    "from bs4 import BeautifulSoup\n",
    "from datetime import datetime"
   ],
   "id": "36138a4be837e999",
   "outputs": [],
   "execution_count": 2
  },
  {
   "metadata": {
    "ExecuteTime": {
     "end_time": "2024-05-17T09:13:53.846487Z",
     "start_time": "2024-05-17T09:13:53.842511Z"
    }
   },
   "cell_type": "code",
   "source": [
    "sites = {\n",
    "    \"yahoo\": {\n",
    "        \"base_url\": \"https://finance.yahoo.com/topic/\",\n",
    "        \"category\": {\n",
    "            \"economics\": \"economic-news\",\n",
    "            \"tech\": \"tech\",\n",
    "            \"housing\": \"housing-market\",\n",
    "        },\n",
    "    }\n",
    "}"
   ],
   "id": "c9a707d673c5b9c",
   "outputs": [],
   "execution_count": 6
  },
  {
   "metadata": {
    "ExecuteTime": {
     "end_time": "2024-05-17T09:52:02.760442Z",
     "start_time": "2024-05-17T09:51:59.695862Z"
    }
   },
   "cell_type": "code",
   "source": [
    "req = requests.get(sites[\"yahoo\"][\"base_url\"] + sites[\"yahoo\"][\"category\"][\"economics\"])\n",
    "soup = BeautifulSoup(req.content, 'html.parser')\n",
    "# article_titles = [t.text for t in soup.find_all(class_=\"Mb(5px)\")]\n",
    "# links = [t.find('a')[\"href\"] for t in soup.find_all(class_=\"Mb(5px)\")]\n",
    "titles = soup.find_all(class_=\"Mb(5px)\")\n",
    "title_text = [t.text for t in titles]\n",
    "links = [t.find(\"a\")[\"href\"] for t in titles]"
   ],
   "id": "58497c44b484f7fe",
   "outputs": [],
   "execution_count": 43
  },
  {
   "metadata": {
    "ExecuteTime": {
     "end_time": "2024-05-17T09:52:04.549639Z",
     "start_time": "2024-05-17T09:52:04.539904Z"
    }
   },
   "cell_type": "code",
   "source": "title_text",
   "id": "210e2eb20030fd4d",
   "outputs": [
    {
     "data": {
      "text/plain": [
       "['Oil Set to Eke Out Weekly Gain as Supply and Inflation Set Tone',\n",
       " 'Europe’s Economy Needs to Grow More Quickly, Donohoe Says',\n",
       " 'Stocks Churn as Traders Pare Back Fed Rate Bets: Markets Wrap',\n",
       " 'Oil set for weekly gain on hopes of firmer demand',\n",
       " 'Suriname’s Oil Resources Seen Totaling 2.4 Billion Barrels',\n",
       " 'Fed Officials Suggest Interest Rates Should Stay High for Longer',\n",
       " 'Petro Meets Colombian Central Bankers He Blamed for Weak Economy',\n",
       " 'Firefighters Gain Control of One Blaze Threatening Oil Sands in Alberta',\n",
       " 'Oil Rises as Shrinking US Stockpiles Add to Risk-On Sentiment',\n",
       " \"US proposes ending new federal leases in nation's biggest coal region\"]"
      ]
     },
     "execution_count": 44,
     "metadata": {},
     "output_type": "execute_result"
    }
   ],
   "execution_count": 44
  },
  {
   "metadata": {
    "ExecuteTime": {
     "end_time": "2024-05-17T09:16:03.576820Z",
     "start_time": "2024-05-17T09:16:03.572759Z"
    }
   },
   "cell_type": "code",
   "source": "links",
   "id": "a57cc9c87cd99e31",
   "outputs": [
    {
     "data": {
      "text/plain": [
       "['https://finance.yahoo.com/news/asian-stocks-drop-traders-rethink-224525599.html',\n",
       " 'https://finance.yahoo.com/news/oil-set-eke-weekly-gain-232819911.html',\n",
       " 'https://finance.yahoo.com/news/oil-set-weekly-gain-signs-010613579.html',\n",
       " 'https://finance.yahoo.com/news/suriname-oil-resources-seen-totaling-223930531.html',\n",
       " 'https://finance.yahoo.com/news/fed-mester-suggests-interest-rates-160000693.html',\n",
       " 'https://finance.yahoo.com/news/petro-meets-colombian-central-bankers-220147115.html',\n",
       " 'https://finance.yahoo.com/news/firefighters-gain-control-one-blaze-195526122.html',\n",
       " 'https://finance.yahoo.com/news/oil-ticks-higher-us-stockpile-232703377.html',\n",
       " 'https://finance.yahoo.com/news/us-proposes-ending-federal-leases-174509228.html',\n",
       " 'https://finance.yahoo.com/news/banks-continue-become-increasingly-less-173404596.html']"
      ]
     },
     "execution_count": 13,
     "metadata": {},
     "output_type": "execute_result"
    }
   ],
   "execution_count": 13
  },
  {
   "metadata": {},
   "cell_type": "code",
   "outputs": [],
   "execution_count": null,
   "source": [
    "def parse_articles_bs(link):\n",
    "    req = requests.get(link)\n",
    "    soup = BeautifulSoup(req.content, 'html.parser')    \n",
    "    title_text = [t.text for t in soup.find_all(class_=\"Mb(5px)\")]\n",
    "    links = [t.find('a')[\"href\"] for t in soup.find_all(class_=\"Mb(5px)\")]\n",
    "    articles = [get_article(l) for l in links]\n",
    "    \n",
    "    df = pd.DataFrame({'title': title_text, 'link': links, 'content': articles})\n",
    "    return df"
   ],
   "id": "b3485e61bb09a9dd"
  },
  {
   "metadata": {},
   "cell_type": "code",
   "outputs": [],
   "execution_count": 178,
   "source": [
    "def parse_articles_selenium(article_list):\n",
    "    titles = article_list.find_elements(by=By.CLASS_NAME, value=\"sa_text\")\n",
    "    title_text = [t.find_element(by=By.CLASS_NAME, value=\"sa_text_title\").text for t in titles]\n",
    "    links = [t.find_element(by=By.CLASS_NAME, value=\"sa_text_title\").get_attribute(\"href\") for t in titles]\n",
    "    articles = [get_article(l) for l in links]\n",
    "    \n",
    "    df = pd.DataFrame({'title': title_text, 'link': links, 'content': articles})\n",
    "    return df"
   ],
   "id": "dbabb885d2174413"
  },
  {
   "metadata": {
    "ExecuteTime": {
     "end_time": "2024-05-17T09:22:27.222095Z",
     "start_time": "2024-05-17T09:22:27.218098Z"
    }
   },
   "cell_type": "code",
   "source": [
    "def get_article(link: str):\n",
    "    req = requests.get(link)\n",
    "    soup = BeautifulSoup(req.content, 'html.parser')\n",
    "    date = soup.select_one(\"#caas-art-9dffa534-bcd1-3e24-8377-ba1fb9d5347e > article > div > div > div > div > div > div > div:nth-child(1) > div.caas-content-byline-wrapper > div.caas-attr > div > div.caas-attr-time-style > time\")[\"datetime\"]\n",
    "    content = '\\n'.join([p.text for p in soup.find(class_=\"caas-body\").select(\"p\")])\n",
    "    return {\"date\": date, \"content\": content}"
   ],
   "id": "e0acbc2efc7620ab",
   "outputs": [],
   "execution_count": 15
  },
  {
   "metadata": {
    "ExecuteTime": {
     "end_time": "2024-05-17T06:28:37.049153Z",
     "start_time": "2024-05-17T06:28:36.216217Z"
    }
   },
   "cell_type": "code",
   "source": [
    "req = requests.get(\"https://news.naver.com/breakingnews/section/101/259\")\n",
    "soup = BeautifulSoup(req.content, 'html.parser')\n",
    "titles = [t.text.strip('\\n') for t in soup.find_all(class_=\"sa_text_title\")]\n",
    "links = [t['href'] for t in soup.find_all(class_=\"sa_text_title\")]"
   ],
   "id": "d8d034a2901743b8",
   "outputs": [],
   "execution_count": 201
  },
  {
   "metadata": {
    "ExecuteTime": {
     "end_time": "2024-05-17T06:59:24.343289Z",
     "start_time": "2024-05-17T06:59:24.339081Z"
    }
   },
   "cell_type": "code",
   "source": "datetime.date()",
   "id": "549e17edbd309f4e",
   "outputs": [
    {
     "data": {
      "text/plain": [
       "datetime.datetime(2024, 5, 17, 15, 59, 24, 340080)"
      ]
     },
     "execution_count": 210,
     "metadata": {},
     "output_type": "execute_result"
    }
   ],
   "execution_count": 210
  },
  {
   "metadata": {
    "ExecuteTime": {
     "end_time": "2024-05-17T10:00:26.384832Z",
     "start_time": "2024-05-17T10:00:25.279855Z"
    }
   },
   "cell_type": "code",
   "source": [
    "link = 'https://finance.yahoo.com/news/asian-stocks-drop-traders-rethink-224525599.html'\n",
    "req = requests.get(link)\n",
    "soup = BeautifulSoup(req.content, 'html.parser')\n",
    "date = soup.find(\"time\")[\"datetime\"]\n",
    "content = '\\n'.join([p.text for p in soup.find(class_=\"caas-body\").select(\"p\")])"
   ],
   "id": "fde828dc5de0fcfb",
   "outputs": [],
   "execution_count": 47
  },
  {
   "metadata": {
    "ExecuteTime": {
     "end_time": "2024-05-17T10:00:26.857652Z",
     "start_time": "2024-05-17T10:00:26.851834Z"
    }
   },
   "cell_type": "code",
   "source": "date",
   "id": "a1390819f04837d2",
   "outputs": [
    {
     "data": {
      "text/plain": [
       "'2024-05-17T05:56:36.000Z'"
      ]
     },
     "execution_count": 48,
     "metadata": {},
     "output_type": "execute_result"
    }
   ],
   "execution_count": 48
  },
  {
   "metadata": {
    "ExecuteTime": {
     "end_time": "2024-05-17T09:42:12.992577Z",
     "start_time": "2024-05-17T09:42:12.987516Z"
    }
   },
   "cell_type": "code",
   "source": "print(content)",
   "id": "11a453d444836d92",
   "outputs": [
    {
     "name": "stdout",
     "output_type": "stream",
     "text": [
      "(Bloomberg) -- European stocks headed for an early decline alongside Asian equities as signs of weakness in China and lower US rate cut forcasts weighed on risk sentiment.\n",
      "Most Read from Bloomberg\n",
      "US Inflation Data Was Accidentally Released 30 Minutes Early\n",
      "With a BlackRock CEO, $9 Trillion Vanguard Braces for Turbulence\n",
      "Putin and Xi Vow to Step Up Fight to Counter US ‘Containment’\n",
      "Jamie Dimon Sees ‘Lot of Inflationary Forces in Front of Us’\n",
      "Dow Average Touches 40,000 Before Pulling Back: Markets Wrap\n",
      "Contracts for the Euro Stoxx 50 fell, following Thursday declines for US stocks and a downbeat day in Asian equity markets that dragged a gauge of the region’s shares lower for the first time in six sessions.\n",
      "The moves followed a lackluster day on Wall Street and further signs of stress in China, where home sales fell in April at a faster pace than the prior month and consumption unexpectedly slowed, providing a new warning sign for the economy.\n",
      "“A-share investor sentiment dropped notably versus the prior week,” Morgan Stanley strategists led by Laura Wang said in a Friday note, referring to Chinese onshore stocks. “Weak credit and inflation data, as well as the US tariff hike announcement, renewed investor concerns regarding weak macro conditions and ongoing geopolitical friction.”\n",
      "Shares in mainland China, Australia and South Korea fell, while Japanese and Hong Kong stocks edged higher. The Hang Seng Index traded near a nine-month high, as robust results supported Alibaba Group Holding Ltd. and Baidu Inc. US equity futures were little changed after a small decline for the S&P 500 and Nasdaq 100 on Thursday.\n",
      "Eurozone consumer price index data is expected to show prices rose 2.4% in April, matching the prior month. European Central Bank Governing Council members Bostjan Vasle, Boris Vujcic, Robert Holzmann and Martins Kazaks are set to speak at an event in Portorož, Slovenia.\n",
      "The yen weakened against the dollar after news the Bank of Japan left bond buying amounts unchanged. One former BOJ chief economist suggested the central bank may raise interest rates three more times this year, with the next move coming as early as June, given its easy policy settings.\n",
      "Treasuries were little changed, while Australian and New Zealand yields climbed, tracking moves in US government bonds on Thursday. A gauge of greenback strength rose, while the offshore yuan weakened against the dollar.\n",
      "China removed the floor on mortgage rates and lowered the minimum down payment ratios for individual homebuyers in its most drastic move to shore up the beleaguered property market.\n",
      "“The key issue facing China’s recovery this year is ‘complacency risk’ — the danger that Beijing will be content with growth that looks decent in terms of real GDP growth (driven by strong production data) but is weaker in terms of nominal growth (due to deflationary pressures) and the economic conditions facing firms and households,” Michael Hirson of 22V Research said.\n",
      "An auction of 30-year Chinese government bonds attracted around four times the amount of demand relative to the debt on offer.\n",
      "Caution in risk assets reflected a repricing of Federal Reserve rate cut expectations in the swaps market. Traders had increased expectations from one cut in 2024 to two following Wednesday’s consumer price index data. On Thursday, those bets retreated, leaving just one cut fully priced in this year.\n",
      "“There is a lot of leeway for the stock market if we do see a short-term pullback soon,” said Matt Maley at Miller Tabak + Co. “Put another way, the bulls are still fully in charge right now, and so it will take a significant reversal to stem the tide of the upside momentum.”\n",
      "Higher for Longer\n",
      "Three Federal Reserve officials said the central bank should keep borrowing costs high for longer as policymakers await more evidence inflation is easing, suggesting they’re not in a rush to cut interest rates.\n",
      "Cleveland Fed President Loretta Mester, New York Fed President John Williams and Richmond Fed President Thomas Barkin, speaking separately Thursday, argued it may take longer for inflation to reach their 2% target.\n",
      "Commodities were broadly higher. West Texas Intermediate climbed early Friday, on pace for a third day of gains. Gold was little changed after a Thursday drop. Bitcoin traded above $65,000 after halting a decline in the prior session.\n",
      "Key events this week:\n",
      "Eurozone CPI, Friday\n",
      "US Conf. Board leading index, Friday\n",
      "Some of the main moves in markets:\n",
      "Stocks\n",
      "S&P 500 futures were unchanged as of 2:39 p.m. Tokyo time\n",
      "Japan’s Topix rose 0.1%\n",
      "Australia’s S&P/ASX 200 fell 0.8%\n",
      "Hong Kong’s Hang Seng rose 0.3%\n",
      "The Shanghai Composite was little changed\n",
      "Euro Stoxx 50 futures fell 0.4%\n",
      "Currencies\n",
      "The Bloomberg Dollar Spot Index rose 0.1%\n",
      "The euro was little changed at $1.0860\n",
      "The Japanese yen fell 0.3% to 155.79 per dollar\n",
      "The offshore yuan was little changed at 7.2273 per dollar\n",
      "Cryptocurrencies\n",
      "Bitcoin rose 0.4% to $65,559.45\n",
      "Ether rose 0.2% to $2,944.8\n",
      "Bonds\n",
      "The yield on 10-year Treasuries was little changed at 4.37%\n",
      "Japan’s 10-year yield advanced 2.5 basis points to 0.945%\n",
      "Australia’s 10-year yield advanced two basis points to 4.21%\n",
      "Commodities\n",
      "West Texas Intermediate crude rose 0.2% to $79.38 a barrel\n",
      "Spot gold rose 0.2% to $2,381.07 an ounce\n",
      "This story was produced with the assistance of Bloomberg Automation.\n",
      "Most Read from Bloomberg Businessweek\n",
      "Neuralink’s First Patient: ‘It Blows My Mind So Much’\n",
      "How the ‘Harvard of Trading’ Ruined Thousands of Young People’s Lives\n",
      "Milei Targets Labor Law That’s Set to Hand Banker $10 Million Severance\n",
      "The DNA Test Delusion\n",
      "Europe’s Banks Find Breaking Up With Russia Is Hard to Do\n",
      "©2024 Bloomberg L.P.\n"
     ]
    }
   ],
   "execution_count": 42
  },
  {
   "metadata": {},
   "cell_type": "code",
   "outputs": [],
   "execution_count": null,
   "source": "",
   "id": "b8d90501e6a453f"
  }
 ],
 "metadata": {
  "kernelspec": {
   "display_name": "Python 3",
   "language": "python",
   "name": "python3"
  },
  "language_info": {
   "codemirror_mode": {
    "name": "ipython",
    "version": 2
   },
   "file_extension": ".py",
   "mimetype": "text/x-python",
   "name": "python",
   "nbconvert_exporter": "python",
   "pygments_lexer": "ipython2",
   "version": "2.7.6"
  }
 },
 "nbformat": 4,
 "nbformat_minor": 5
}
