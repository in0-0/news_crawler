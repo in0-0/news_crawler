{
 "cells": [
  {
   "metadata": {
    "ExecuteTime": {
     "end_time": "2024-05-17T05:56:47.904566Z",
     "start_time": "2024-05-17T05:56:17.380396Z"
    }
   },
   "cell_type": "code",
   "source": [
    "# !pip install --upgrade pip\n",
    "# !pip install bs4 selenium black pandas --quiet"
   ],
   "id": "e72139ca628829fc",
   "outputs": [],
   "execution_count": 182
  },
  {
   "metadata": {
    "ExecuteTime": {
     "end_time": "2024-05-22T15:12:17.778447Z",
     "start_time": "2024-05-22T15:12:16.913587Z"
    }
   },
   "cell_type": "code",
   "source": [
    "from selenium import webdriver\n",
    "from selenium.webdriver.common.by import By\n",
    "import requests\n",
    "import re\n",
    "import pandas as pd\n",
    "import time\n",
    "from bs4 import BeautifulSoup\n",
    "from datetime import datetime"
   ],
   "id": "36138a4be837e999",
   "outputs": [],
   "execution_count": 2
  },
  {
   "metadata": {
    "ExecuteTime": {
     "end_time": "2024-05-17T01:16:25.364262Z",
     "start_time": "2024-05-17T01:16:25.360262Z"
    }
   },
   "cell_type": "code",
   "source": [
    "options = webdriver.ChromeOptions()\n",
    "# background operation\n",
    "options.add_argument(\"headless\")"
   ],
   "id": "dcfc0eb3ca68c59c",
   "outputs": [],
   "execution_count": 11
  },
  {
   "metadata": {
    "ExecuteTime": {
     "end_time": "2024-05-17T01:19:00.739527Z",
     "start_time": "2024-05-17T01:18:58.622086Z"
    }
   },
   "cell_type": "code",
   "source": [
    "# stop selenium process\n",
    "driver.quit()"
   ],
   "id": "f028d56d6ecf47fa",
   "outputs": [],
   "execution_count": 14
  },
  {
   "metadata": {
    "ExecuteTime": {
     "end_time": "2024-05-17T02:15:56.230550Z",
     "start_time": "2024-05-17T02:15:56.221549Z"
    }
   },
   "cell_type": "code",
   "source": [
    "sites = {\n",
    "    \"naver\": {\n",
    "        \"base_url\": \"https://news.naver.com/breakingnews/section/101/\",\n",
    "        \"category\": {\n",
    "            \"finance\": \"259\",\n",
    "            \"stock\": \"258\",\n",
    "            \"industry\": \"261\",\n",
    "            \"venture\": \"771\",\n",
    "            \"real_estate\": \"260\",\n",
    "            \"global\": \"262\",\n",
    "        },\n",
    "    }\n",
    "}"
   ],
   "id": "c9a707d673c5b9c",
   "outputs": [],
   "execution_count": 19
  },
  {
   "metadata": {
    "ExecuteTime": {
     "end_time": "2024-05-17T05:51:18.239552Z",
     "start_time": "2024-05-17T05:51:15.642907Z"
    }
   },
   "cell_type": "code",
   "source": [
    "# driver = webdriver.Chrome(options= options)\n",
    "driver = webdriver.Chrome()\n",
    "cur_site = sites['naver']['base_url'] + sites['naver']['category']['finance']\n",
    "driver.get(cur_site)"
   ],
   "id": "3ff82452f95fb8b8",
   "outputs": [],
   "execution_count": 174
  },
  {
   "metadata": {
    "ExecuteTime": {
     "end_time": "2024-05-17T05:51:18.404579Z",
     "start_time": "2024-05-17T05:51:18.240549Z"
    }
   },
   "cell_type": "code",
   "source": [
    "title_xpath = '//*[@id=\"newsct\"]/div[2]/div/div[1]'\n",
    "article_list = driver.find_element(by=By.XPATH, value=title_xpath)"
   ],
   "id": "3083c53190edbef8",
   "outputs": [],
   "execution_count": 175
  },
  {
   "metadata": {
    "ExecuteTime": {
     "end_time": "2024-05-17T05:51:18.481576Z",
     "start_time": "2024-05-17T05:51:18.409576Z"
    }
   },
   "cell_type": "code",
   "source": "titles = article_list.find_elements(by=By.CLASS_NAME, value=\"sa_text\")",
   "id": "1e3183fec26dac37",
   "outputs": [],
   "execution_count": 176
  },
  {
   "metadata": {
    "ExecuteTime": {
     "end_time": "2024-05-22T15:13:50.268861Z",
     "start_time": "2024-05-22T15:13:49.282316Z"
    }
   },
   "cell_type": "code",
   "source": [
    "req = requests.get(\"https://news.naver.com/breakingnews/section/101/259\")\n",
    "soup = BeautifulSoup(req.content, 'html.parser')\n",
    "[t['href'] for t in soup.find_all(class_=\"sa_text_title\")]"
   ],
   "id": "58497c44b484f7fe",
   "outputs": [
    {
     "data": {
      "text/plain": [
       "[<a class=\"sa_text_title\" data-clk=\"alist\" data-gdid=\"880000E7_000000000000000005745846\" data-rank=\"1\" href=\"https://n.news.naver.com/mnews/article/018/0005745846\">\n",
       " <strong class=\"sa_text_strong\">[마켓인]“고령화로 수요↑”…헬스케어 SaaS 담는 글로벌 PE</strong>\n",
       " </a>,\n",
       " <a class=\"sa_text_title\" data-clk=\"alist\" data-gdid=\"88000108_000000000000000004344013\" data-rank=\"2\" href=\"https://n.news.naver.com/mnews/article/011/0004344013\">\n",
       " <strong class=\"sa_text_strong\">\"주식보다 낫다\"는 '이 적금'…10개월 만에 123만명 가입했다</strong>\n",
       " </a>,\n",
       " <a class=\"sa_text_title\" data-clk=\"alist\" data-gdid=\"880000BC_000000000000000005307391\" data-rank=\"3\" href=\"https://n.news.naver.com/mnews/article/009/0005307391\">\n",
       " <strong class=\"sa_text_strong\">[포토] 하나금융, 가정의 달 '孝콘서트'</strong>\n",
       " </a>,\n",
       " <a class=\"sa_text_title\" data-clk=\"alist\" data-gdid=\"880000BC_000000000000000005307390\" data-rank=\"4\" href=\"https://n.news.naver.com/mnews/article/009/0005307390\">\n",
       " <strong class=\"sa_text_strong\">카카오손보 영유아 보험 출시 주요질병만 담아 보험료 낮춰</strong>\n",
       " </a>,\n",
       " <a class=\"sa_text_title\" data-clk=\"alist\" data-gdid=\"88000127_000000000000000012561723\" data-rank=\"5\" href=\"https://n.news.naver.com/mnews/article/003/0012561723\">\n",
       " <strong class=\"sa_text_strong\">증선위, '감사 소홀' 동아송강회계법인 손배공동기금 추가 의결</strong>\n",
       " </a>,\n",
       " <a class=\"sa_text_title\" data-clk=\"alist\" data-gdid=\"880000D2_000000000000000003935329\" data-rank=\"6\" href=\"https://n.news.naver.com/mnews/article/022/0003935329\">\n",
       " <strong class=\"sa_text_strong\">청년도약계좌 10개월간 123만명 가입</strong>\n",
       " </a>,\n",
       " <a class=\"sa_text_title\" data-clk=\"alist\" data-gdid=\"880000D2_000000000000000003935327\" data-rank=\"7\" href=\"https://n.news.naver.com/mnews/article/022/0003935327\">\n",
       " <strong class=\"sa_text_strong\">서학개미 증가에…대외금융자산 2.3조弗 '역대 최대'</strong>\n",
       " </a>,\n",
       " <a class=\"sa_text_title\" data-clk=\"alist\" data-gdid=\"880000FF_000000000000000005189010\" data-rank=\"8\" href=\"https://n.news.naver.com/mnews/article/014/0005189010\">\n",
       " <strong class=\"sa_text_strong\">정태영 현대카드 부회장 \"애플페이 도입? 책임감 때문...PLCC에 사활\"</strong>\n",
       " </a>,\n",
       " <a class=\"sa_text_title\" data-clk=\"alist\" data-gdid=\"880000AD_000000000000000002875364\" data-rank=\"9\" href=\"https://n.news.naver.com/mnews/article/029/0002875364\">\n",
       " <strong class=\"sa_text_strong\">홍콩 ELS 분쟁조정… 다음타자는 증권사</strong>\n",
       " </a>,\n",
       " <a class=\"sa_text_title\" data-clk=\"alist\" data-gdid=\"880000FF_000000000000000005189008\" data-rank=\"10\" href=\"https://n.news.naver.com/mnews/article/014/0005189008\">\n",
       " <strong class=\"sa_text_strong\">KB스타뱅킹 하나로 인천공항 탑승 수속한다..국민銀-공항공사 업무협약</strong>\n",
       " </a>,\n",
       " <a class=\"sa_text_title\" data-clk=\"alist\" data-gdid=\"880000FF_000000000000000005189007\" data-rank=\"11\" href=\"https://n.news.naver.com/mnews/article/014/0005189007\">\n",
       " <strong class=\"sa_text_strong\">경남은행 창립 54주년 기념식 개최...예경탁 행장 \"지역상생금융 실천\"</strong>\n",
       " </a>,\n",
       " <a class=\"sa_text_title\" data-clk=\"alist\" data-gdid=\"880000AD_000000000000000002875361\" data-rank=\"12\" href=\"https://n.news.naver.com/mnews/article/029/0002875361\">\n",
       " <strong class=\"sa_text_strong\">증선위, 동아송강회계법인에 손해배상공동기금 10% 추가적립 제재</strong>\n",
       " </a>,\n",
       " <a class=\"sa_text_title\" data-clk=\"alist\" data-gdid=\"88000127_000000000000000012561686\" data-rank=\"13\" href=\"https://n.news.naver.com/mnews/article/003/0012561686\">\n",
       " <strong class=\"sa_text_strong\">BNK경남은행 창립 54주년 \"지역 상생금융 실천\" 다짐</strong>\n",
       " </a>,\n",
       " <a class=\"sa_text_title\" data-clk=\"alist\" data-gdid=\"88000107_000000000000000004987893\" data-rank=\"14\" href=\"https://n.news.naver.com/mnews/article/015/0004987893\">\n",
       " <strong class=\"sa_text_strong\">조병규 우리은행장 '플라스틱 저감' 동참</strong>\n",
       " </a>,\n",
       " <a class=\"sa_text_title\" data-clk=\"alist\" data-gdid=\"88000107_000000000000000004987892\" data-rank=\"15\" href=\"https://n.news.naver.com/mnews/article/015/0004987892\">\n",
       " <strong class=\"sa_text_strong\">김성태 기업은행장 '소통포차' 열어</strong>\n",
       " </a>,\n",
       " <a class=\"sa_text_title\" data-clk=\"alist\" data-gdid=\"880000AD_000000000000000002875346\" data-rank=\"16\" href=\"https://n.news.naver.com/mnews/article/029/0002875346\">\n",
       " <strong class=\"sa_text_strong\">[THE FINANCE] 떡잎부터 알아야 나무도 잘 큰다</strong>\n",
       " </a>,\n",
       " <a class=\"sa_text_title\" data-clk=\"alist\" data-gdid=\"880000AD_000000000000000002875345\" data-rank=\"17\" href=\"https://n.news.naver.com/mnews/article/029/0002875345\">\n",
       " <strong class=\"sa_text_strong\">\"유럽 6월·미국 7월·한국 10월?\"…금리 인하 눈치작전</strong>\n",
       " </a>,\n",
       " <a class=\"sa_text_title\" data-clk=\"alist\" data-gdid=\"08138262_000000000000000000661148\" data-rank=\"18\" href=\"https://n.news.naver.com/mnews/article/422/0000661148\">\n",
       " <strong class=\"sa_text_strong\">'내부정보 거래' 메리츠증권 전 임직원 구속영장 청구</strong>\n",
       " </a>,\n",
       " <a class=\"sa_text_title\" data-clk=\"alist\" data-gdid=\"880000AD_000000000000000002875344\" data-rank=\"19\" href=\"https://n.news.naver.com/mnews/article/029/0002875344\">\n",
       " <strong class=\"sa_text_strong\">5대 은행 `예금 점유율` 경쟁 치열…인뱅까지 가세</strong>\n",
       " </a>,\n",
       " <a class=\"sa_text_title\" data-clk=\"alist\" data-gdid=\"08138262_000000000000000000661141\" data-rank=\"20\" href=\"https://n.news.naver.com/mnews/article/422/0000661141\">\n",
       " <strong class=\"sa_text_strong\">청년도약계좌 123만명 가입…평균 17만원 혜택</strong>\n",
       " </a>,\n",
       " <a class=\"sa_text_title\" data-clk=\"alist\" data-gdid=\"08138262_000000000000000000661140\" data-rank=\"21\" href=\"https://n.news.naver.com/mnews/article/422/0000661140\">\n",
       " <strong class=\"sa_text_strong\">사모펀드 사칭 사기 주의해야…금감원, 소비자경보 발령</strong>\n",
       " </a>,\n",
       " <a class=\"sa_text_title\" data-clk=\"alist\" data-gdid=\"880000AD_000000000000000002875334\" data-rank=\"22\" href=\"https://n.news.naver.com/mnews/article/029/0002875334\">\n",
       " <strong class=\"sa_text_strong\">정태영 \"AI 1조 투자… 데이터로 승부\"</strong>\n",
       " </a>,\n",
       " <a class=\"sa_text_title\" data-clk=\"alist\" data-gdid=\"880000FF_000000000000000005188961\" data-rank=\"23\" href=\"https://n.news.naver.com/mnews/article/014/0005188961\">\n",
       " <strong class=\"sa_text_strong\">[fn이사람] \"‘케이뱅크 돈나무 키우기’ 인기에 100만명 방문\"</strong>\n",
       " </a>,\n",
       " <a class=\"sa_text_title\" data-clk=\"alist\" data-gdid=\"88000107_000000000000000004987844\" data-rank=\"24\" href=\"https://n.news.naver.com/mnews/article/015/0004987844\">\n",
       " <strong class=\"sa_text_strong\">\"어린이집 감염병 집중 보장\"…카카오페이손보, 영유아보험 '도전장'</strong>\n",
       " </a>,\n",
       " <a class=\"sa_text_title\" data-clk=\"alist\" data-gdid=\"880000FF_000000000000000005188956\" data-rank=\"25\" href=\"https://n.news.naver.com/mnews/article/014/0005188956\">\n",
       " <strong class=\"sa_text_strong\">김성태 기업은행장, 임직원과 ‘소통포차’</strong>\n",
       " </a>,\n",
       " <a class=\"sa_text_title\" data-clk=\"alist\" data-gdid=\"880000BC_000000000000000005307366\" data-rank=\"26\" href=\"https://n.news.naver.com/mnews/article/009/0005307366\">\n",
       " <strong class=\"sa_text_strong\">\"데이터 사업이 승부처 AI에 1조 투자해 도약\"</strong>\n",
       " </a>,\n",
       " <a class=\"sa_text_title\" data-clk=\"alist\" data-gdid=\"880000BC_000000000000000005307365\" data-rank=\"27\" href=\"https://n.news.naver.com/mnews/article/009/0005307365\">\n",
       " <strong class=\"sa_text_strong\">'외환거래 확대' 겨눈 은행 … 인력·조직 강화</strong>\n",
       " </a>,\n",
       " <a class=\"sa_text_title\" data-clk=\"alist\" data-gdid=\"880000BC_000000000000000005307364\" data-rank=\"28\" href=\"https://n.news.naver.com/mnews/article/009/0005307364\">\n",
       " <strong class=\"sa_text_strong\">청년도약계좌 10개월만에 123만명 가입</strong>\n",
       " </a>,\n",
       " <a class=\"sa_text_title\" data-clk=\"alist\" data-gdid=\"880000BC_000000000000000005307363\" data-rank=\"29\" href=\"https://n.news.naver.com/mnews/article/009/0005307363\">\n",
       " <strong class=\"sa_text_strong\">\"엔시티 위시와 적금 도전\" 카뱅, SM과 '기록통장' 출시</strong>\n",
       " </a>,\n",
       " <a class=\"sa_text_title\" data-clk=\"alist\" data-gdid=\"880000BC_000000000000000005307362\" data-rank=\"30\" href=\"https://n.news.naver.com/mnews/article/009/0005307362\">\n",
       " <strong class=\"sa_text_strong\">[표] 외국환율고시표</strong>\n",
       " </a>,\n",
       " <a class=\"sa_text_title\" data-clk=\"alist\" data-gdid=\"88000108_000000000000000004343983\" data-rank=\"31\" href=\"https://n.news.naver.com/mnews/article/011/0004343983\">\n",
       " <strong class=\"sa_text_strong\">정태영 부회장 \"1조 들여 AI 데이터플랫폼 구축…PLCC 성공 원동력\"</strong>\n",
       " </a>,\n",
       " <a class=\"sa_text_title\" data-clk=\"alist\" data-gdid=\"88000149_000000000000000001163114\" data-rank=\"32\" href=\"https://n.news.naver.com/mnews/article/215/0001163114\">\n",
       " <strong class=\"sa_text_strong\">카카오페이손보, 영유아보험시장 뛰어들었다</strong>\n",
       " </a>,\n",
       " <a class=\"sa_text_title\" data-clk=\"alist\" data-gdid=\"88000149_000000000000000001163113\" data-rank=\"33\" href=\"https://n.news.naver.com/mnews/article/215/0001163113\">\n",
       " <strong class=\"sa_text_strong\">정태영 \"데이터혁명, 현대카드가 넘는다…AI에 1조원 투자\"</strong>\n",
       " </a>,\n",
       " <a class=\"sa_text_title\" data-clk=\"alist\" data-gdid=\"08138263_000000000000000007555947\" data-rank=\"34\" href=\"https://n.news.naver.com/mnews/article/421/0007555947\">\n",
       " <strong class=\"sa_text_strong\">\"이제는 비트코인보다 이더리움\"…코인업계 대세 뒤바뀌었다</strong>\n",
       " </a>,\n",
       " <a class=\"sa_text_title\" data-clk=\"alist\" data-gdid=\"88000107_000000000000000004987841\" data-rank=\"35\" href=\"https://n.news.naver.com/mnews/article/015/0004987841\">\n",
       " <strong class=\"sa_text_strong\">정태영 \"AI에 1兆 투자, 데이터 사업 본궤도\"</strong>\n",
       " </a>,\n",
       " <a class=\"sa_text_title\" data-clk=\"alist\" data-gdid=\"88000107_000000000000000004987840\" data-rank=\"36\" href=\"https://n.news.naver.com/mnews/article/015/0004987840\">\n",
       " <strong class=\"sa_text_strong\">농협은행 65억대 부동산 부당대출 적발</strong>\n",
       " </a>]"
      ]
     },
     "execution_count": 4,
     "metadata": {},
     "output_type": "execute_result"
    }
   ],
   "execution_count": 4
  },
  {
   "metadata": {},
   "cell_type": "code",
   "outputs": [],
   "execution_count": null,
   "source": [
    "def parse_articles_bs(link):\n",
    "    req = requests.get(link)\n",
    "    soup = BeautifulSoup(req.content, 'html.parser')\n",
    "    title_text = [t.text.strip('\\n') for t in soup.find_all(class_=\"sa_text_title\")]\n",
    "    links = [t['href'] for t in soup.find_all(class_=\"sa_text_title\")]\n",
    "    articles = [get_article(l) for l in links]\n",
    "    \n",
    "    df = pd.DataFrame({'title': title_text, 'link': links, 'content': articles})\n",
    "    return df"
   ],
   "id": "b3485e61bb09a9dd"
  },
  {
   "metadata": {},
   "cell_type": "code",
   "outputs": [],
   "execution_count": 178,
   "source": [
    "def parse_articles_selenium(article_list):\n",
    "    titles = article_list.find_elements(by=By.CLASS_NAME, value=\"sa_text\")\n",
    "    title_text = [t.find_element(by=By.CLASS_NAME, value=\"sa_text_title\").text for t in titles]\n",
    "    links = [t.find_element(by=By.CLASS_NAME, value=\"sa_text_title\").get_attribute(\"href\") for t in titles]\n",
    "    articles = [get_article(l) for l in links]\n",
    "    \n",
    "    df = pd.DataFrame({'title': title_text, 'link': links, 'content': articles})\n",
    "    return df"
   ],
   "id": "dbabb885d2174413"
  },
  {
   "metadata": {
    "ExecuteTime": {
     "end_time": "2024-05-17T07:07:21.971370Z",
     "start_time": "2024-05-17T07:07:21.967411Z"
    }
   },
   "cell_type": "code",
   "source": [
    "def get_article(link: str):\n",
    "    req = requests.get(link)\n",
    "    soup = BeautifulSoup(req.content, 'html.parser')\n",
    "    date = soup.select(\"#ct > div.media_end_head.go_trans > div.media_end_head_info.nv_notrans > div.media_end_head_info_datestamp > div > span\")[\"data-date-time\"]\n",
    "    content = soup.select_one(\"article\").text\n",
    "    return {\"date\": date, \"content\": content}"
   ],
   "id": "e0acbc2efc7620ab",
   "outputs": [],
   "execution_count": 216
  },
  {
   "metadata": {
    "ExecuteTime": {
     "end_time": "2024-05-17T06:11:20.126786Z",
     "start_time": "2024-05-17T06:11:20.119788Z"
    }
   },
   "cell_type": "code",
   "source": [
    "for category in sites[\"naver\"][\"category\"].values():\n",
    "    print(sites['naver']['base_url'] + category)"
   ],
   "id": "7216c49b8aaa03a7",
   "outputs": [
    {
     "name": "stdout",
     "output_type": "stream",
     "text": [
      "https://news.naver.com/breakingnews/section/101/259\n",
      "https://news.naver.com/breakingnews/section/101/258\n",
      "https://news.naver.com/breakingnews/section/101/261\n",
      "https://news.naver.com/breakingnews/section/101/771\n",
      "https://news.naver.com/breakingnews/section/101/260\n",
      "https://news.naver.com/breakingnews/section/101/262\n"
     ]
    }
   ],
   "execution_count": 188
  },
  {
   "metadata": {},
   "cell_type": "code",
   "outputs": [
    {
     "name": "stdout",
     "output_type": "stream",
     "text": [
      "https://news.naver.com/breakingnews/section/101/259\n",
      "https://news.naver.com/breakingnews/section/101/258\n",
      "https://news.naver.com/breakingnews/section/101/261\n",
      "https://news.naver.com/breakingnews/section/101/771\n",
      "https://news.naver.com/breakingnews/section/101/260\n",
      "https://news.naver.com/breakingnews/section/101/262\n"
     ]
    }
   ],
   "execution_count": 188,
   "source": [
    "for category in sites[\"naver\"][\"category\"].values():\n",
    "    print(sites['naver']['base_url'] + category)"
   ],
   "id": "9f97eb187a5f7118"
  },
  {
   "metadata": {
    "ExecuteTime": {
     "end_time": "2024-05-17T06:28:37.049153Z",
     "start_time": "2024-05-17T06:28:36.216217Z"
    }
   },
   "cell_type": "code",
   "source": [
    "req = requests.get(\"https://news.naver.com/breakingnews/section/101/259\")\n",
    "soup = BeautifulSoup(req.content, 'html.parser')\n",
    "titles = [t.text.strip('\\n') for t in soup.find_all(class_=\"sa_text_title\")]\n",
    "links = [t['href'] for t in soup.find_all(class_=\"sa_text_title\")]"
   ],
   "id": "d8d034a2901743b8",
   "outputs": [],
   "execution_count": 201
  },
  {
   "metadata": {
    "ExecuteTime": {
     "end_time": "2024-05-17T06:28:42.270200Z",
     "start_time": "2024-05-17T06:28:42.264705Z"
    }
   },
   "cell_type": "code",
   "source": "titles",
   "id": "f4e29b506b433ca9",
   "outputs": [
    {
     "data": {
      "text/plain": [
       "['SC제일은행, 첫 거래 고객 일복리저축예금 최고 연 3.4%',\n",
       " '케이뱅크, 주담대 대환·전세 대출금리 인하…최저 연 3.43%',\n",
       " '미래에셋증권 ELW 192개 종목 신규 상장',\n",
       " \"BNK경남은행-양산시, 소상공인 희망나눔 상생금융 '맞손'\",\n",
       " \"우리다문화장학재단, '베트남 언어·문화체험' 청소년 모집\",\n",
       " '국민은행, 캄보디아 중앙은행과 QR코드 기반 지급결제시스템 구축',\n",
       " '\"6월 17일~28일 혁신금융서비스 지정 신청하세요\"',\n",
       " '케이뱅크, 아파트담보대출·전세대출 금리 인하',\n",
       " '\"주택금융 알기 참 쉽죠\"...주금공 \\'재밌지예\\' 강좌 개최',\n",
       " '“2금융권 PF 브릿지론 절반 이상 ‘부실 우려 가능성’ 사업장에 묶여”',\n",
       " '케이뱅크, 주담대·전세대출 금리 인하…대환대출 최저 연 3.43%',\n",
       " '中 본토에서 투자 못하니… 홍콩 비트코인 ETF, 출시 후 자금 순유출',\n",
       " '농협금융지주 미래성장부문, 농촌 폐전자제품 수거 봉사 전개',\n",
       " '[2024 서울머니쇼 부스] 새로운 투자 경험의 시작! 이제는 머니무브 투자 앱으로',\n",
       " '농협은행, 나주 이슬촌마을 농촌체험여행 이벤트',\n",
       " '국민은행, 웹툰·웹예능 등 콘텐츠로 전세사기 피해 예방 지원',\n",
       " \"주금공, 다음 달 4일 주택금융 '재밌지예' 강좌\",\n",
       " '케이뱅크, 주담대·전세대출 금리 인하…대환대출 최저 3.43%',\n",
       " '농협중앙회, 영농철 일손돕기 실시',\n",
       " \"[단독] 은행들의 '10년 전쟁' 나라사랑카드…올해 새 사업자 뽑는다\",\n",
       " '전북銀-캄보디아 중앙은행, QR결제시스템 구축 업무협약',\n",
       " '케이뱅크, 아담대·전세대 금리 인하…대환대출 최저 연 3.43%부터',\n",
       " '[인사] 금융위원회',\n",
       " '케이뱅크, 주담대·전세대출 금리 인하… 대환대출 최저 연 3.43%',\n",
       " '서민금융진흥원, 대학생 서포터즈 발대식',\n",
       " '대양제지, 상장폐지신청서 제출',\n",
       " '흥국금융계열사, 소외계층 위한 무료급식 나눔 봉사',\n",
       " '[인사] 금융위원회',\n",
       " '금융위, 6월 17~28일 혁신금융서비스 지정 신청 접수',\n",
       " '케이뱅크, 아파트담보대출 금리 인하…대환대출 최저 연 3.43%',\n",
       " '[인사]금융위원회',\n",
       " '[인사] 금융위원회',\n",
       " '전북은행, 캄보디아 중앙은행과 지급결제 업무협약',\n",
       " '[인사] 금융위원회',\n",
       " '부산은행 모바일뱅킹 앱에 있다…간식 쇼핑 특화몰 출시',\n",
       " '“미꾸라지 아닌 메기가 되어다오”...iM뱅크로 재도약 나선 대구은행']"
      ]
     },
     "execution_count": 202,
     "metadata": {},
     "output_type": "execute_result"
    }
   ],
   "execution_count": 202
  },
  {
   "metadata": {
    "ExecuteTime": {
     "end_time": "2024-05-17T06:59:24.343289Z",
     "start_time": "2024-05-17T06:59:24.339081Z"
    }
   },
   "cell_type": "code",
   "source": "datetime.date()",
   "id": "549e17edbd309f4e",
   "outputs": [
    {
     "data": {
      "text/plain": [
       "datetime.datetime(2024, 5, 17, 15, 59, 24, 340080)"
      ]
     },
     "execution_count": 210,
     "metadata": {},
     "output_type": "execute_result"
    }
   ],
   "execution_count": 210
  },
  {
   "metadata": {},
   "cell_type": "code",
   "outputs": [],
   "execution_count": null,
   "source": "",
   "id": "fde828dc5de0fcfb"
  }
 ],
 "metadata": {
  "kernelspec": {
   "display_name": "Python 3",
   "language": "python",
   "name": "python3"
  },
  "language_info": {
   "codemirror_mode": {
    "name": "ipython",
    "version": 2
   },
   "file_extension": ".py",
   "mimetype": "text/x-python",
   "name": "python",
   "nbconvert_exporter": "python",
   "pygments_lexer": "ipython2",
   "version": "2.7.6"
  }
 },
 "nbformat": 4,
 "nbformat_minor": 5
}
